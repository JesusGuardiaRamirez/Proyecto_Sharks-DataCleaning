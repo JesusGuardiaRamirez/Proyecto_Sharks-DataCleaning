{
 "cells": [
  {
   "cell_type": "markdown",
   "id": "303ce88d",
   "metadata": {},
   "source": [
    "# 1. - Data cleaning - Proyecto \"Shark\" \n",
    "#### Empezamos importando las librerias que porbablemente utilizaremos para poder completar esta limpieza de datos"
   ]
  },
  {
   "cell_type": "code",
   "execution_count": 85,
   "id": "b9e10b7d",
   "metadata": {},
   "outputs": [],
   "source": [
    "import pandas as pd\n",
    "import numpy as np\n",
    "from collections import Counter\n",
    "import warnings\n",
    "warnings.filterwarnings('ignore')\n",
    "pd.set_option('display.max_columns', None)  # me muestre todas las columnas\n",
    "import re\n",
    "import seaborn as sns\n",
    "\n"
   ]
  },
  {
   "cell_type": "markdown",
   "id": "cf552dd5",
   "metadata": {},
   "source": [
    "### Descarga del archivo para poder trabajar en el\n",
    "\n",
    "\n",
    "#### Guardamos la ruta del archivo en una variable, para poder utilizarla de forma sencilla.\n",
    "#### Miramos el archivo con la funcion .head() y seleccionamos 2 filas para ver si todo esta en orden. "
   ]
  },
  {
   "cell_type": "code",
   "execution_count": 2,
   "id": "890f7382",
   "metadata": {},
   "outputs": [
    {
     "data": {
      "text/html": [
       "<div>\n",
       "<style scoped>\n",
       "    .dataframe tbody tr th:only-of-type {\n",
       "        vertical-align: middle;\n",
       "    }\n",
       "\n",
       "    .dataframe tbody tr th {\n",
       "        vertical-align: top;\n",
       "    }\n",
       "\n",
       "    .dataframe thead th {\n",
       "        text-align: right;\n",
       "    }\n",
       "</style>\n",
       "<table border=\"1\" class=\"dataframe\">\n",
       "  <thead>\n",
       "    <tr style=\"text-align: right;\">\n",
       "      <th></th>\n",
       "      <th>Case Number</th>\n",
       "      <th>Date</th>\n",
       "      <th>Year</th>\n",
       "      <th>Type</th>\n",
       "      <th>Country</th>\n",
       "      <th>Area</th>\n",
       "      <th>Location</th>\n",
       "      <th>Activity</th>\n",
       "      <th>Name</th>\n",
       "      <th>Sex</th>\n",
       "      <th>Age</th>\n",
       "      <th>Injury</th>\n",
       "      <th>Fatal (Y/N)</th>\n",
       "      <th>Time</th>\n",
       "      <th>Species</th>\n",
       "      <th>Investigator or Source</th>\n",
       "      <th>pdf</th>\n",
       "      <th>href formula</th>\n",
       "      <th>href</th>\n",
       "      <th>Case Number.1</th>\n",
       "      <th>Case Number.2</th>\n",
       "      <th>original order</th>\n",
       "    </tr>\n",
       "  </thead>\n",
       "  <tbody>\n",
       "    <tr>\n",
       "      <th>0</th>\n",
       "      <td>2017.06.11</td>\n",
       "      <td>2017-06-11</td>\n",
       "      <td>2017.0</td>\n",
       "      <td>Unprovoked</td>\n",
       "      <td>AUSTRALIA</td>\n",
       "      <td>Western Australia</td>\n",
       "      <td>Point Casuarina, Bunbury</td>\n",
       "      <td>Body boarding</td>\n",
       "      <td>Paul Goff</td>\n",
       "      <td>M</td>\n",
       "      <td>48</td>\n",
       "      <td>No injury, board bitten</td>\n",
       "      <td>N</td>\n",
       "      <td>08h30</td>\n",
       "      <td>White shark, 4 m</td>\n",
       "      <td>WA Today, 6/11/2017</td>\n",
       "      <td>2017.06.11-Goff.pdf</td>\n",
       "      <td>http://sharkattackfile.net/spreadsheets/pdf_di...</td>\n",
       "      <td>http://sharkattackfile.net/spreadsheets/pdf_di...</td>\n",
       "      <td>2017.06.11</td>\n",
       "      <td>2017.06.11</td>\n",
       "      <td>6095.0</td>\n",
       "    </tr>\n",
       "    <tr>\n",
       "      <th>1</th>\n",
       "      <td>2017.06.10.b</td>\n",
       "      <td>2017-06-10</td>\n",
       "      <td>2017.0</td>\n",
       "      <td>Unprovoked</td>\n",
       "      <td>AUSTRALIA</td>\n",
       "      <td>Victoria</td>\n",
       "      <td>Flinders, Mornington Penisula</td>\n",
       "      <td>Surfing</td>\n",
       "      <td>female</td>\n",
       "      <td>F</td>\n",
       "      <td>NaN</td>\n",
       "      <td>No injury, knocke off board</td>\n",
       "      <td>N</td>\n",
       "      <td>15h45</td>\n",
       "      <td>7 gill shark</td>\n",
       "      <td>NaN</td>\n",
       "      <td>2017.06.10.b-Flinders.pdf</td>\n",
       "      <td>http://sharkattackfile.net/spreadsheets/pdf_di...</td>\n",
       "      <td>http://sharkattackfile.net/spreadsheets/pdf_di...</td>\n",
       "      <td>2017.06.10.b</td>\n",
       "      <td>2017.06.10.b</td>\n",
       "      <td>6094.0</td>\n",
       "    </tr>\n",
       "  </tbody>\n",
       "</table>\n",
       "</div>"
      ],
      "text/plain": [
       "    Case Number        Date    Year        Type    Country               Area  \\\n",
       "0    2017.06.11  2017-06-11  2017.0  Unprovoked  AUSTRALIA  Western Australia   \n",
       "1  2017.06.10.b  2017-06-10  2017.0  Unprovoked  AUSTRALIA           Victoria   \n",
       "\n",
       "                        Location       Activity       Name Sex   Age  \\\n",
       "0       Point Casuarina, Bunbury  Body boarding  Paul Goff    M   48   \n",
       "1  Flinders, Mornington Penisula        Surfing     female    F  NaN   \n",
       "\n",
       "                        Injury Fatal (Y/N)   Time          Species   \\\n",
       "0      No injury, board bitten           N  08h30  White shark, 4 m   \n",
       "1  No injury, knocke off board           N  15h45      7 gill shark   \n",
       "\n",
       "  Investigator or Source                        pdf  \\\n",
       "0    WA Today, 6/11/2017        2017.06.11-Goff.pdf   \n",
       "1                    NaN  2017.06.10.b-Flinders.pdf   \n",
       "\n",
       "                                        href formula  \\\n",
       "0  http://sharkattackfile.net/spreadsheets/pdf_di...   \n",
       "1  http://sharkattackfile.net/spreadsheets/pdf_di...   \n",
       "\n",
       "                                                href Case Number.1  \\\n",
       "0  http://sharkattackfile.net/spreadsheets/pdf_di...    2017.06.11   \n",
       "1  http://sharkattackfile.net/spreadsheets/pdf_di...  2017.06.10.b   \n",
       "\n",
       "  Case Number.2  original order  \n",
       "0    2017.06.11          6095.0  \n",
       "1  2017.06.10.b          6094.0  "
      ]
     },
     "execution_count": 2,
     "metadata": {},
     "output_type": "execute_result"
    }
   ],
   "source": [
    "\n",
    "data_shark = pd.read_csv('/Users/JGR/IRON_HACK/Sharks/attacks.csv', encoding='UTF-8',encoding_errors='ignore')\n",
    "\n",
    "# Enseña la cabeza del DataFrame\n",
    "data_shark.head(2) "
   ]
  },
  {
   "cell_type": "markdown",
   "id": "7fe31814",
   "metadata": {},
   "source": [
    "#### Vemos la informacion del archivo globalmente donde podemos ver el numero de columnas, filas, etc..."
   ]
  },
  {
   "cell_type": "code",
   "execution_count": 3,
   "id": "48ea9f4c",
   "metadata": {},
   "outputs": [
    {
     "name": "stdout",
     "output_type": "stream",
     "text": [
      "<class 'pandas.core.frame.DataFrame'>\n",
      "RangeIndex: 25614 entries, 0 to 25613\n",
      "Data columns (total 22 columns):\n",
      " #   Column                  Non-Null Count  Dtype  \n",
      "---  ------                  --------------  -----  \n",
      " 0   Case Number             6095 non-null   object \n",
      " 1   Date                    6094 non-null   object \n",
      " 2   Year                    6092 non-null   float64\n",
      " 3   Type                    6090 non-null   object \n",
      " 4   Country                 6048 non-null   object \n",
      " 5   Area                    5682 non-null   object \n",
      " 6   Location                5583 non-null   object \n",
      " 7   Activity                5559 non-null   object \n",
      " 8   Name                    5888 non-null   object \n",
      " 9   Sex                     5517 non-null   object \n",
      " 10  Age                     3374 non-null   object \n",
      " 11  Injury                  6066 non-null   object \n",
      " 12  Fatal (Y/N)             6064 non-null   object \n",
      " 13  Time                    2848 non-null   object \n",
      " 14  Species                 3100 non-null   object \n",
      " 15  Investigator or Source  6077 non-null   object \n",
      " 16  pdf                     6094 non-null   object \n",
      " 17  href formula            6093 non-null   object \n",
      " 18  href                    6093 non-null   object \n",
      " 19  Case Number.1           6094 non-null   object \n",
      " 20  Case Number.2           6094 non-null   object \n",
      " 21  original order          6094 non-null   float64\n",
      "dtypes: float64(2), object(20)\n",
      "memory usage: 4.3+ MB\n"
     ]
    }
   ],
   "source": [
    "data_shark.info()"
   ]
  },
  {
   "cell_type": "markdown",
   "id": "c39b71fa",
   "metadata": {},
   "source": [
    "##### En la pequeña tabla anterior nos enseña el numero total de columnas, el numero total de filas, el numero de nulos que obtiene esta DataFrame y el tipo de Objeto que son.\n",
    "\n",
    "#### Con el siguiente codigo vemos el numero total de nulos que contiene cada columna y la guardo en una variable que es la que voy a utilizar para limpiarla. "
   ]
  },
  {
   "cell_type": "code",
   "execution_count": 4,
   "id": "6f9d4272",
   "metadata": {},
   "outputs": [
    {
     "data": {
      "text/plain": [
       "Case Number               19519\n",
       "Date                      19520\n",
       "Year                      19522\n",
       "Type                      19524\n",
       "Country                   19566\n",
       "Area                      19932\n",
       "Location                  20031\n",
       "Activity                  20055\n",
       "Name                      19726\n",
       "Sex                       20097\n",
       "Age                       22240\n",
       "Injury                    19548\n",
       "Fatal (Y/N)               19550\n",
       "Time                      22766\n",
       "Species                   22514\n",
       "Investigator or Source    19537\n",
       "pdf                       19520\n",
       "href formula              19521\n",
       "href                      19521\n",
       "Case Number.1             19520\n",
       "Case Number.2             19520\n",
       "original order            19520\n",
       "dtype: int64"
      ]
     },
     "execution_count": 4,
     "metadata": {},
     "output_type": "execute_result"
    }
   ],
   "source": [
    "df = pd.DataFrame(data_shark)\n",
    "null_counts = df.isna().sum() \n",
    "nulls = null_counts[null_counts > 0] \n",
    "nulls "
   ]
  },
  {
   "cell_type": "markdown",
   "id": "98d2a7d1",
   "metadata": {},
   "source": [
    "# 2. - Limpieza de datos y ajustando la DataFrame de una forma que se pueda analizar.\n",
    "\n",
    "###### En el caso de tener duplicados este archivo, vamos hacer que se eliminen ya que no tendría sentido tenerlos "
   ]
  },
  {
   "cell_type": "code",
   "execution_count": 5,
   "id": "6f51d920",
   "metadata": {},
   "outputs": [],
   "source": [
    "df = data_shark.drop_duplicates()"
   ]
  },
  {
   "cell_type": "markdown",
   "id": "46958907",
   "metadata": {},
   "source": [
    "##### Imprimimos el dato general del numero de columnas y filas, y la comparamos con la inicial."
   ]
  },
  {
   "cell_type": "code",
   "execution_count": 6,
   "id": "6b7dbc72",
   "metadata": {},
   "outputs": [
    {
     "data": {
      "text/plain": [
       "((25614, 22), (6097, 22))"
      ]
     },
     "execution_count": 6,
     "metadata": {},
     "output_type": "execute_result"
    }
   ],
   "source": [
    "data_shark.shape, df.shape"
   ]
  },
  {
   "cell_type": "markdown",
   "id": "727f0560",
   "metadata": {},
   "source": [
    "#### Una vez completado la eliminacion de duplicados, tenemos que proceder a la limpieza de los valores nulos, tal vez poniendolos todos con el mismo valor \n",
    "#### La función .fillna() es un método proporcionado por la biblioteca pandas en Python que le permite rellenar valores faltantes o NaN (Not a Number) en un DataFrame o Series de pandas con un valor especificado o un método como forward-fill o backward-fill."
   ]
  },
  {
   "cell_type": "code",
   "execution_count": 7,
   "id": "7ca3ce4f",
   "metadata": {},
   "outputs": [],
   "source": [
    "df = df.fillna('0') "
   ]
  },
  {
   "cell_type": "code",
   "execution_count": 8,
   "id": "66dad721",
   "metadata": {},
   "outputs": [
    {
     "data": {
      "text/html": [
       "<div>\n",
       "<style scoped>\n",
       "    .dataframe tbody tr th:only-of-type {\n",
       "        vertical-align: middle;\n",
       "    }\n",
       "\n",
       "    .dataframe tbody tr th {\n",
       "        vertical-align: top;\n",
       "    }\n",
       "\n",
       "    .dataframe thead th {\n",
       "        text-align: right;\n",
       "    }\n",
       "</style>\n",
       "<table border=\"1\" class=\"dataframe\">\n",
       "  <thead>\n",
       "    <tr style=\"text-align: right;\">\n",
       "      <th></th>\n",
       "      <th>Case Number</th>\n",
       "      <th>Date</th>\n",
       "      <th>Year</th>\n",
       "      <th>Type</th>\n",
       "      <th>Country</th>\n",
       "      <th>Area</th>\n",
       "      <th>Location</th>\n",
       "      <th>Activity</th>\n",
       "      <th>Name</th>\n",
       "      <th>Sex</th>\n",
       "      <th>Age</th>\n",
       "      <th>Injury</th>\n",
       "      <th>Fatal (Y/N)</th>\n",
       "      <th>Time</th>\n",
       "      <th>Species</th>\n",
       "      <th>Investigator or Source</th>\n",
       "      <th>pdf</th>\n",
       "      <th>href formula</th>\n",
       "      <th>href</th>\n",
       "      <th>Case Number.1</th>\n",
       "      <th>Case Number.2</th>\n",
       "      <th>original order</th>\n",
       "    </tr>\n",
       "  </thead>\n",
       "  <tbody>\n",
       "    <tr>\n",
       "      <th>0</th>\n",
       "      <td>2017.06.11</td>\n",
       "      <td>2017-06-11</td>\n",
       "      <td>2017.0</td>\n",
       "      <td>Unprovoked</td>\n",
       "      <td>AUSTRALIA</td>\n",
       "      <td>Western Australia</td>\n",
       "      <td>Point Casuarina, Bunbury</td>\n",
       "      <td>Body boarding</td>\n",
       "      <td>Paul Goff</td>\n",
       "      <td>M</td>\n",
       "      <td>48</td>\n",
       "      <td>No injury, board bitten</td>\n",
       "      <td>N</td>\n",
       "      <td>08h30</td>\n",
       "      <td>White shark, 4 m</td>\n",
       "      <td>WA Today, 6/11/2017</td>\n",
       "      <td>2017.06.11-Goff.pdf</td>\n",
       "      <td>http://sharkattackfile.net/spreadsheets/pdf_di...</td>\n",
       "      <td>http://sharkattackfile.net/spreadsheets/pdf_di...</td>\n",
       "      <td>2017.06.11</td>\n",
       "      <td>2017.06.11</td>\n",
       "      <td>6095.0</td>\n",
       "    </tr>\n",
       "    <tr>\n",
       "      <th>1</th>\n",
       "      <td>2017.06.10.b</td>\n",
       "      <td>2017-06-10</td>\n",
       "      <td>2017.0</td>\n",
       "      <td>Unprovoked</td>\n",
       "      <td>AUSTRALIA</td>\n",
       "      <td>Victoria</td>\n",
       "      <td>Flinders, Mornington Penisula</td>\n",
       "      <td>Surfing</td>\n",
       "      <td>female</td>\n",
       "      <td>F</td>\n",
       "      <td>0</td>\n",
       "      <td>No injury, knocke off board</td>\n",
       "      <td>N</td>\n",
       "      <td>15h45</td>\n",
       "      <td>7 gill shark</td>\n",
       "      <td>0</td>\n",
       "      <td>2017.06.10.b-Flinders.pdf</td>\n",
       "      <td>http://sharkattackfile.net/spreadsheets/pdf_di...</td>\n",
       "      <td>http://sharkattackfile.net/spreadsheets/pdf_di...</td>\n",
       "      <td>2017.06.10.b</td>\n",
       "      <td>2017.06.10.b</td>\n",
       "      <td>6094.0</td>\n",
       "    </tr>\n",
       "    <tr>\n",
       "      <th>2</th>\n",
       "      <td>2017.06.10.a</td>\n",
       "      <td>2017-06-10</td>\n",
       "      <td>2017.0</td>\n",
       "      <td>Unprovoked</td>\n",
       "      <td>USA</td>\n",
       "      <td>Florida</td>\n",
       "      <td>Ponce Inlet, Volusia County</td>\n",
       "      <td>Surfing</td>\n",
       "      <td>Bryan Brock</td>\n",
       "      <td>M</td>\n",
       "      <td>19</td>\n",
       "      <td>Laceration to left foot</td>\n",
       "      <td>N</td>\n",
       "      <td>10h00</td>\n",
       "      <td>0</td>\n",
       "      <td>Daytona Beach News-Journal, 6/10/2017</td>\n",
       "      <td>2017.06.10.a-Brock.pdf</td>\n",
       "      <td>http://sharkattackfile.net/spreadsheets/pdf_di...</td>\n",
       "      <td>http://sharkattackfile.net/spreadsheets/pdf_di...</td>\n",
       "      <td>2017.06.10.a</td>\n",
       "      <td>2017.06.10.a</td>\n",
       "      <td>6093.0</td>\n",
       "    </tr>\n",
       "    <tr>\n",
       "      <th>3</th>\n",
       "      <td>2017.06.07.R</td>\n",
       "      <td>Reported 07-Jun-2017</td>\n",
       "      <td>2017.0</td>\n",
       "      <td>Unprovoked</td>\n",
       "      <td>UNITED KINGDOM</td>\n",
       "      <td>South Devon</td>\n",
       "      <td>Bantham Beach</td>\n",
       "      <td>Surfing</td>\n",
       "      <td>Rich Thomson</td>\n",
       "      <td>M</td>\n",
       "      <td>30</td>\n",
       "      <td>Bruise to leg, cuts to hand sustained when he ...</td>\n",
       "      <td>N</td>\n",
       "      <td>0</td>\n",
       "      <td>3m shark, probably a smooth hound</td>\n",
       "      <td>C. Moore, GSAF</td>\n",
       "      <td>2017.06.07.R-Thomson.pdf</td>\n",
       "      <td>http://sharkattackfile.net/spreadsheets/pdf_di...</td>\n",
       "      <td>http://sharkattackfile.net/spreadsheets/pdf_di...</td>\n",
       "      <td>2017.06.07.R</td>\n",
       "      <td>2017.06.07.R</td>\n",
       "      <td>6092.0</td>\n",
       "    </tr>\n",
       "    <tr>\n",
       "      <th>4</th>\n",
       "      <td>2017.06.04</td>\n",
       "      <td>2017-06-04</td>\n",
       "      <td>2017.0</td>\n",
       "      <td>Unprovoked</td>\n",
       "      <td>USA</td>\n",
       "      <td>Florida</td>\n",
       "      <td>Middle Sambo Reef off Boca Chica, Monroe County</td>\n",
       "      <td>Spearfishing</td>\n",
       "      <td>Parker Simpson</td>\n",
       "      <td>M</td>\n",
       "      <td>0</td>\n",
       "      <td>Laceration to shin</td>\n",
       "      <td>N</td>\n",
       "      <td>0</td>\n",
       "      <td>8' shark</td>\n",
       "      <td>Nine News, 6/7/2017</td>\n",
       "      <td>2017.06.04-Simpson.pdf</td>\n",
       "      <td>http://sharkattackfile.net/spreadsheets/pdf_di...</td>\n",
       "      <td>http://sharkattackfile.net/spreadsheets/pdf_di...</td>\n",
       "      <td>2017.06.04</td>\n",
       "      <td>2017.06.04</td>\n",
       "      <td>6091.0</td>\n",
       "    </tr>\n",
       "  </tbody>\n",
       "</table>\n",
       "</div>"
      ],
      "text/plain": [
       "    Case Number                  Date    Year        Type         Country  \\\n",
       "0    2017.06.11            2017-06-11  2017.0  Unprovoked       AUSTRALIA   \n",
       "1  2017.06.10.b            2017-06-10  2017.0  Unprovoked       AUSTRALIA   \n",
       "2  2017.06.10.a            2017-06-10  2017.0  Unprovoked             USA   \n",
       "3  2017.06.07.R  Reported 07-Jun-2017  2017.0  Unprovoked  UNITED KINGDOM   \n",
       "4    2017.06.04            2017-06-04  2017.0  Unprovoked             USA   \n",
       "\n",
       "                Area                                         Location  \\\n",
       "0  Western Australia                         Point Casuarina, Bunbury   \n",
       "1           Victoria                    Flinders, Mornington Penisula   \n",
       "2            Florida                      Ponce Inlet, Volusia County   \n",
       "3        South Devon                                    Bantham Beach   \n",
       "4            Florida  Middle Sambo Reef off Boca Chica, Monroe County   \n",
       "\n",
       "        Activity            Name Sex  Age  \\\n",
       "0  Body boarding       Paul Goff    M  48   \n",
       "1        Surfing          female    F   0   \n",
       "2        Surfing     Bryan Brock    M  19   \n",
       "3       Surfing     Rich Thomson    M  30   \n",
       "4   Spearfishing  Parker Simpson    M   0   \n",
       "\n",
       "                                              Injury Fatal (Y/N)   Time  \\\n",
       "0                            No injury, board bitten           N  08h30   \n",
       "1                        No injury, knocke off board           N  15h45   \n",
       "2                            Laceration to left foot           N  10h00   \n",
       "3  Bruise to leg, cuts to hand sustained when he ...           N      0   \n",
       "4                                 Laceration to shin           N      0   \n",
       "\n",
       "                            Species                  Investigator or Source  \\\n",
       "0                   White shark, 4 m                    WA Today, 6/11/2017   \n",
       "1                       7 gill shark                                      0   \n",
       "2                                  0  Daytona Beach News-Journal, 6/10/2017   \n",
       "3  3m shark, probably a smooth hound                         C. Moore, GSAF   \n",
       "4                           8' shark                    Nine News, 6/7/2017   \n",
       "\n",
       "                         pdf  \\\n",
       "0        2017.06.11-Goff.pdf   \n",
       "1  2017.06.10.b-Flinders.pdf   \n",
       "2     2017.06.10.a-Brock.pdf   \n",
       "3   2017.06.07.R-Thomson.pdf   \n",
       "4     2017.06.04-Simpson.pdf   \n",
       "\n",
       "                                        href formula  \\\n",
       "0  http://sharkattackfile.net/spreadsheets/pdf_di...   \n",
       "1  http://sharkattackfile.net/spreadsheets/pdf_di...   \n",
       "2  http://sharkattackfile.net/spreadsheets/pdf_di...   \n",
       "3  http://sharkattackfile.net/spreadsheets/pdf_di...   \n",
       "4  http://sharkattackfile.net/spreadsheets/pdf_di...   \n",
       "\n",
       "                                                href Case Number.1  \\\n",
       "0  http://sharkattackfile.net/spreadsheets/pdf_di...    2017.06.11   \n",
       "1  http://sharkattackfile.net/spreadsheets/pdf_di...  2017.06.10.b   \n",
       "2  http://sharkattackfile.net/spreadsheets/pdf_di...  2017.06.10.a   \n",
       "3  http://sharkattackfile.net/spreadsheets/pdf_di...  2017.06.07.R   \n",
       "4  http://sharkattackfile.net/spreadsheets/pdf_di...    2017.06.04   \n",
       "\n",
       "  Case Number.2 original order  \n",
       "0    2017.06.11         6095.0  \n",
       "1  2017.06.10.b         6094.0  \n",
       "2  2017.06.10.a         6093.0  \n",
       "3  2017.06.07.R         6092.0  \n",
       "4    2017.06.04         6091.0  "
      ]
     },
     "execution_count": 8,
     "metadata": {},
     "output_type": "execute_result"
    }
   ],
   "source": [
    "df.head(5)"
   ]
  },
  {
   "cell_type": "markdown",
   "id": "f0baee19",
   "metadata": {},
   "source": [
    "#### Ahora procedemos a ver el nombre de todas las columnas, para ver si tenemos que camibar alguna o ver si necesitamos la columna para hacer nuestro estudio. "
   ]
  },
  {
   "cell_type": "code",
   "execution_count": 9,
   "id": "044e3d37",
   "metadata": {},
   "outputs": [
    {
     "data": {
      "text/plain": [
       "Index(['Case Number', 'Date', 'Year', 'Type', 'Country', 'Area', 'Location',\n",
       "       'Activity', 'Name', 'Sex ', 'Age', 'Injury', 'Fatal (Y/N)', 'Time',\n",
       "       'Species ', 'Investigator or Source', 'pdf', 'href formula', 'href',\n",
       "       'Case Number.1', 'Case Number.2', 'original order'],\n",
       "      dtype='object')"
      ]
     },
     "execution_count": 9,
     "metadata": {},
     "output_type": "execute_result"
    }
   ],
   "source": [
    "df.columns"
   ]
  },
  {
   "cell_type": "markdown",
   "id": "70aa067b",
   "metadata": {},
   "source": [
    "#### Vemos que algunas columnas tienen espacios despues del nombres, ej: Sex , en este caso tenemos que ponerlas sin espacios y llevar un orden, hay algunas que empiezan con mayuscula y otras que no.\n"
   ]
  },
  {
   "cell_type": "code",
   "execution_count": 10,
   "id": "26f77330",
   "metadata": {},
   "outputs": [],
   "source": [
    "df = df.rename(columns={'Sex ': 'Sex', 'Species ': 'Specie'}) # Cambia el nombre "
   ]
  },
  {
   "cell_type": "code",
   "execution_count": 11,
   "id": "b600f1b2",
   "metadata": {},
   "outputs": [],
   "source": [
    "df.columns = df.columns.str.capitalize() # Pone la primera en Mayuscula"
   ]
  },
  {
   "cell_type": "code",
   "execution_count": 12,
   "id": "e8006889",
   "metadata": {},
   "outputs": [
    {
     "data": {
      "text/plain": [
       "Index(['Case number', 'Date', 'Year', 'Type', 'Country', 'Area', 'Location',\n",
       "       'Activity', 'Name', 'Sex', 'Age', 'Injury', 'Fatal (y/n)', 'Time',\n",
       "       'Specie', 'Investigator or source', 'Pdf', 'Href formula', 'Href',\n",
       "       'Case number.1', 'Case number.2', 'Original order'],\n",
       "      dtype='object')"
      ]
     },
     "execution_count": 12,
     "metadata": {},
     "output_type": "execute_result"
    }
   ],
   "source": [
    "df.columns"
   ]
  },
  {
   "cell_type": "markdown",
   "id": "a50a1301",
   "metadata": {},
   "source": [
    "### Limpia las columnas que quizas no te hagan falta para analizar esta tabla, cambia el nombre de la columna si es necesario, e incluso quita los valores de tales para hacer el trabajo mas ameno."
   ]
  },
  {
   "cell_type": "code",
   "execution_count": 13,
   "id": "2a719c99",
   "metadata": {},
   "outputs": [],
   "source": [
    "df = df.rename(columns={'Case number.1': 'Attack Date'}) # Cambio el nombre de la columna a Attack Date"
   ]
  },
  {
   "cell_type": "code",
   "execution_count": 14,
   "id": "ac296e16",
   "metadata": {},
   "outputs": [],
   "source": [
    "#df['Case number.2'] = 0 # Limpieza de datos que me son irrelevantes"
   ]
  },
  {
   "cell_type": "code",
   "execution_count": 15,
   "id": "b077808f",
   "metadata": {},
   "outputs": [],
   "source": [
    "# Podemos borrar los datos de numerosas columnas y covertirlos en otros\n",
    "columnas = ['Case number.2', 'Name', 'Original order', 'Pdf', 'Href',] \n",
    "df.loc[:, columnas] = 0"
   ]
  },
  {
   "cell_type": "code",
   "execution_count": 18,
   "id": "a7be7240",
   "metadata": {},
   "outputs": [],
   "source": [
    "# Borro los datos de columna tambien, ya que no tiene sentido tenerla\n",
    "df['Href formula'] = 0  "
   ]
  },
  {
   "cell_type": "code",
   "execution_count": 33,
   "id": "e5250150",
   "metadata": {},
   "outputs": [
    {
     "data": {
      "text/html": [
       "<div>\n",
       "<style scoped>\n",
       "    .dataframe tbody tr th:only-of-type {\n",
       "        vertical-align: middle;\n",
       "    }\n",
       "\n",
       "    .dataframe tbody tr th {\n",
       "        vertical-align: top;\n",
       "    }\n",
       "\n",
       "    .dataframe thead th {\n",
       "        text-align: right;\n",
       "    }\n",
       "</style>\n",
       "<table border=\"1\" class=\"dataframe\">\n",
       "  <thead>\n",
       "    <tr style=\"text-align: right;\">\n",
       "      <th></th>\n",
       "      <th>Case number</th>\n",
       "      <th>Date</th>\n",
       "      <th>Year</th>\n",
       "      <th>Type</th>\n",
       "      <th>Country</th>\n",
       "      <th>Area</th>\n",
       "      <th>Location</th>\n",
       "      <th>Activity</th>\n",
       "      <th>Name</th>\n",
       "      <th>Sex</th>\n",
       "      <th>Age</th>\n",
       "      <th>Injury</th>\n",
       "      <th>Fatal (y/n)</th>\n",
       "      <th>Time</th>\n",
       "      <th>Specie</th>\n",
       "      <th>Investigator or source</th>\n",
       "      <th>Pdf</th>\n",
       "      <th>Href formula</th>\n",
       "      <th>Season</th>\n",
       "      <th>Attack Date</th>\n",
       "      <th>Year</th>\n",
       "      <th>Month</th>\n",
       "    </tr>\n",
       "  </thead>\n",
       "  <tbody>\n",
       "    <tr>\n",
       "      <th>0</th>\n",
       "      <td>2017.06.11</td>\n",
       "      <td>2017-06-11</td>\n",
       "      <td>2017</td>\n",
       "      <td>Unprovoked</td>\n",
       "      <td>AUSTRALIA</td>\n",
       "      <td>Western Australia</td>\n",
       "      <td>Point Casuarina, Bunbury</td>\n",
       "      <td>Body boarding</td>\n",
       "      <td>0</td>\n",
       "      <td>M</td>\n",
       "      <td>48</td>\n",
       "      <td>No injury, board bitten</td>\n",
       "      <td>N</td>\n",
       "      <td>08h30</td>\n",
       "      <td>White shark, 4 m</td>\n",
       "      <td>WA Today, 6/11/2017</td>\n",
       "      <td>0</td>\n",
       "      <td>0</td>\n",
       "      <td>0</td>\n",
       "      <td>2017.06.11</td>\n",
       "      <td>2017</td>\n",
       "      <td>06</td>\n",
       "    </tr>\n",
       "    <tr>\n",
       "      <th>1</th>\n",
       "      <td>2017.06.10.b</td>\n",
       "      <td>2017-06-10</td>\n",
       "      <td>2017</td>\n",
       "      <td>Unprovoked</td>\n",
       "      <td>AUSTRALIA</td>\n",
       "      <td>Victoria</td>\n",
       "      <td>Flinders, Mornington Penisula</td>\n",
       "      <td>Surfing</td>\n",
       "      <td>0</td>\n",
       "      <td>F</td>\n",
       "      <td>0</td>\n",
       "      <td>No injury, knocke off board</td>\n",
       "      <td>N</td>\n",
       "      <td>15h45</td>\n",
       "      <td>7 gill shark</td>\n",
       "      <td>0</td>\n",
       "      <td>0</td>\n",
       "      <td>0</td>\n",
       "      <td>0</td>\n",
       "      <td>2017.06.10</td>\n",
       "      <td>2017</td>\n",
       "      <td>06</td>\n",
       "    </tr>\n",
       "    <tr>\n",
       "      <th>2</th>\n",
       "      <td>2017.06.10.a</td>\n",
       "      <td>2017-06-10</td>\n",
       "      <td>2017</td>\n",
       "      <td>Unprovoked</td>\n",
       "      <td>USA</td>\n",
       "      <td>Florida</td>\n",
       "      <td>Ponce Inlet, Volusia County</td>\n",
       "      <td>Surfing</td>\n",
       "      <td>0</td>\n",
       "      <td>M</td>\n",
       "      <td>19</td>\n",
       "      <td>Laceration to left foot</td>\n",
       "      <td>N</td>\n",
       "      <td>10h00</td>\n",
       "      <td>0</td>\n",
       "      <td>Daytona Beach News-Journal, 6/10/2017</td>\n",
       "      <td>0</td>\n",
       "      <td>0</td>\n",
       "      <td>0</td>\n",
       "      <td>2017.06.10</td>\n",
       "      <td>2017</td>\n",
       "      <td>06</td>\n",
       "    </tr>\n",
       "    <tr>\n",
       "      <th>3</th>\n",
       "      <td>2017.06.07.R</td>\n",
       "      <td>Reported 07-Jun-2017</td>\n",
       "      <td>2017</td>\n",
       "      <td>Unprovoked</td>\n",
       "      <td>UNITED KINGDOM</td>\n",
       "      <td>South Devon</td>\n",
       "      <td>Bantham Beach</td>\n",
       "      <td>Surfing</td>\n",
       "      <td>0</td>\n",
       "      <td>M</td>\n",
       "      <td>30</td>\n",
       "      <td>Bruise to leg, cuts to hand sustained when he ...</td>\n",
       "      <td>N</td>\n",
       "      <td>0</td>\n",
       "      <td>3m shark, probably a smooth hound</td>\n",
       "      <td>C. Moore, GSAF</td>\n",
       "      <td>0</td>\n",
       "      <td>0</td>\n",
       "      <td>0</td>\n",
       "      <td>2017.06.07</td>\n",
       "      <td>2017</td>\n",
       "      <td>06</td>\n",
       "    </tr>\n",
       "  </tbody>\n",
       "</table>\n",
       "</div>"
      ],
      "text/plain": [
       "    Case number                  Date  Year        Type         Country  \\\n",
       "0    2017.06.11            2017-06-11  2017  Unprovoked       AUSTRALIA   \n",
       "1  2017.06.10.b            2017-06-10  2017  Unprovoked       AUSTRALIA   \n",
       "2  2017.06.10.a            2017-06-10  2017  Unprovoked             USA   \n",
       "3  2017.06.07.R  Reported 07-Jun-2017  2017  Unprovoked  UNITED KINGDOM   \n",
       "\n",
       "                Area                       Location       Activity Name Sex  \\\n",
       "0  Western Australia       Point Casuarina, Bunbury  Body boarding    0   M   \n",
       "1           Victoria  Flinders, Mornington Penisula        Surfing    0   F   \n",
       "2            Florida    Ponce Inlet, Volusia County        Surfing    0   M   \n",
       "3        South Devon                  Bantham Beach       Surfing     0   M   \n",
       "\n",
       "  Age                                             Injury Fatal (y/n)   Time  \\\n",
       "0  48                            No injury, board bitten           N  08h30   \n",
       "1   0                        No injury, knocke off board           N  15h45   \n",
       "2  19                            Laceration to left foot           N  10h00   \n",
       "3  30  Bruise to leg, cuts to hand sustained when he ...           N      0   \n",
       "\n",
       "                              Specie                 Investigator or source  \\\n",
       "0                   White shark, 4 m                    WA Today, 6/11/2017   \n",
       "1                       7 gill shark                                      0   \n",
       "2                                  0  Daytona Beach News-Journal, 6/10/2017   \n",
       "3  3m shark, probably a smooth hound                         C. Moore, GSAF   \n",
       "\n",
       "  Pdf  Href formula Season Attack Date  Year Month  \n",
       "0   0             0      0  2017.06.11  2017    06  \n",
       "1   0             0      0  2017.06.10  2017    06  \n",
       "2   0             0      0  2017.06.10  2017    06  \n",
       "3   0             0      0  2017.06.07  2017    06  "
      ]
     },
     "execution_count": 33,
     "metadata": {},
     "output_type": "execute_result"
    }
   ],
   "source": [
    "df.head(4)"
   ]
  },
  {
   "cell_type": "markdown",
   "id": "9cecb7ec",
   "metadata": {},
   "source": [
    "### Voy a trabajar con la columna de Attack Date, así que voy a modificar las dos siguientes para hacer nuestros calculos, voy a renombrar una de ellas a Year y la otra a Month\n"
   ]
  },
  {
   "cell_type": "code",
   "execution_count": 22,
   "id": "73984a01",
   "metadata": {},
   "outputs": [],
   "source": [
    "df = df.rename(columns={\"Case number.2\": \"Year\"}) "
   ]
  },
  {
   "cell_type": "code",
   "execution_count": 23,
   "id": "f04344ad",
   "metadata": {},
   "outputs": [],
   "source": [
    "df = df.rename(columns={\"Original order\": \"Month\"}) "
   ]
  },
  {
   "cell_type": "code",
   "execution_count": 24,
   "id": "fb4846ee",
   "metadata": {},
   "outputs": [
    {
     "data": {
      "text/html": [
       "<div>\n",
       "<style scoped>\n",
       "    .dataframe tbody tr th:only-of-type {\n",
       "        vertical-align: middle;\n",
       "    }\n",
       "\n",
       "    .dataframe tbody tr th {\n",
       "        vertical-align: top;\n",
       "    }\n",
       "\n",
       "    .dataframe thead th {\n",
       "        text-align: right;\n",
       "    }\n",
       "</style>\n",
       "<table border=\"1\" class=\"dataframe\">\n",
       "  <thead>\n",
       "    <tr style=\"text-align: right;\">\n",
       "      <th></th>\n",
       "      <th>Case number</th>\n",
       "      <th>Date</th>\n",
       "      <th>Year</th>\n",
       "      <th>Type</th>\n",
       "      <th>Country</th>\n",
       "      <th>Area</th>\n",
       "      <th>Location</th>\n",
       "      <th>Activity</th>\n",
       "      <th>Name</th>\n",
       "      <th>Sex</th>\n",
       "      <th>Age</th>\n",
       "      <th>Injury</th>\n",
       "      <th>Fatal (y/n)</th>\n",
       "      <th>Time</th>\n",
       "      <th>Specie</th>\n",
       "      <th>Investigator or source</th>\n",
       "      <th>Pdf</th>\n",
       "      <th>Href formula</th>\n",
       "      <th>Href</th>\n",
       "      <th>Attack Date</th>\n",
       "      <th>Year</th>\n",
       "      <th>Month</th>\n",
       "    </tr>\n",
       "  </thead>\n",
       "  <tbody>\n",
       "    <tr>\n",
       "      <th>0</th>\n",
       "      <td>2017.06.11</td>\n",
       "      <td>2017-06-11</td>\n",
       "      <td>2017.0</td>\n",
       "      <td>Unprovoked</td>\n",
       "      <td>AUSTRALIA</td>\n",
       "      <td>Western Australia</td>\n",
       "      <td>Point Casuarina, Bunbury</td>\n",
       "      <td>Body boarding</td>\n",
       "      <td>0</td>\n",
       "      <td>M</td>\n",
       "      <td>48</td>\n",
       "      <td>No injury, board bitten</td>\n",
       "      <td>N</td>\n",
       "      <td>08h30</td>\n",
       "      <td>White shark, 4 m</td>\n",
       "      <td>WA Today, 6/11/2017</td>\n",
       "      <td>0</td>\n",
       "      <td>0</td>\n",
       "      <td>0</td>\n",
       "      <td>2017.06.11</td>\n",
       "      <td>0</td>\n",
       "      <td>0</td>\n",
       "    </tr>\n",
       "    <tr>\n",
       "      <th>1</th>\n",
       "      <td>2017.06.10.b</td>\n",
       "      <td>2017-06-10</td>\n",
       "      <td>2017.0</td>\n",
       "      <td>Unprovoked</td>\n",
       "      <td>AUSTRALIA</td>\n",
       "      <td>Victoria</td>\n",
       "      <td>Flinders, Mornington Penisula</td>\n",
       "      <td>Surfing</td>\n",
       "      <td>0</td>\n",
       "      <td>F</td>\n",
       "      <td>0</td>\n",
       "      <td>No injury, knocke off board</td>\n",
       "      <td>N</td>\n",
       "      <td>15h45</td>\n",
       "      <td>7 gill shark</td>\n",
       "      <td>0</td>\n",
       "      <td>0</td>\n",
       "      <td>0</td>\n",
       "      <td>0</td>\n",
       "      <td>2017.06.10.b</td>\n",
       "      <td>0</td>\n",
       "      <td>0</td>\n",
       "    </tr>\n",
       "  </tbody>\n",
       "</table>\n",
       "</div>"
      ],
      "text/plain": [
       "    Case number        Date    Year        Type    Country               Area  \\\n",
       "0    2017.06.11  2017-06-11  2017.0  Unprovoked  AUSTRALIA  Western Australia   \n",
       "1  2017.06.10.b  2017-06-10  2017.0  Unprovoked  AUSTRALIA           Victoria   \n",
       "\n",
       "                        Location       Activity Name Sex Age  \\\n",
       "0       Point Casuarina, Bunbury  Body boarding    0   M  48   \n",
       "1  Flinders, Mornington Penisula        Surfing    0   F   0   \n",
       "\n",
       "                        Injury Fatal (y/n)   Time            Specie  \\\n",
       "0      No injury, board bitten           N  08h30  White shark, 4 m   \n",
       "1  No injury, knocke off board           N  15h45      7 gill shark   \n",
       "\n",
       "  Investigator or source Pdf  Href formula Href   Attack Date Year Month  \n",
       "0    WA Today, 6/11/2017   0             0    0    2017.06.11    0     0  \n",
       "1                      0   0             0    0  2017.06.10.b    0     0  "
      ]
     },
     "execution_count": 24,
     "metadata": {},
     "output_type": "execute_result"
    }
   ],
   "source": [
    "df.head(2)"
   ]
  },
  {
   "cell_type": "markdown",
   "id": "f6789d11",
   "metadata": {},
   "source": [
    "### Una vez modificada la columnas, voy a limpiar la columa de Attack Date ya que tiene la fecha y algunas letras detras, voy a introducir el año en la casilla de Year y los meses en la casilla de Month."
   ]
  },
  {
   "cell_type": "code",
   "execution_count": 25,
   "id": "4b705aa2",
   "metadata": {},
   "outputs": [],
   "source": [
    "df[\"Attack Date\"] = df[\"Attack Date\"].str.slice(stop=10)"
   ]
  },
  {
   "cell_type": "code",
   "execution_count": 26,
   "id": "049a3fab",
   "metadata": {},
   "outputs": [],
   "source": [
    "df.loc[df[\"Attack Date\"].str.startswith(\"ND\"), \"Attack Date\"] = \"NoDataGiven\" + df[\"Attack Date\"].str.slice(start=1)"
   ]
  },
  {
   "cell_type": "code",
   "execution_count": 34,
   "id": "ca233303",
   "metadata": {},
   "outputs": [
    {
     "data": {
      "text/html": [
       "<div>\n",
       "<style scoped>\n",
       "    .dataframe tbody tr th:only-of-type {\n",
       "        vertical-align: middle;\n",
       "    }\n",
       "\n",
       "    .dataframe tbody tr th {\n",
       "        vertical-align: top;\n",
       "    }\n",
       "\n",
       "    .dataframe thead th {\n",
       "        text-align: right;\n",
       "    }\n",
       "</style>\n",
       "<table border=\"1\" class=\"dataframe\">\n",
       "  <thead>\n",
       "    <tr style=\"text-align: right;\">\n",
       "      <th></th>\n",
       "      <th>Case number</th>\n",
       "      <th>Date</th>\n",
       "      <th>Year</th>\n",
       "      <th>Type</th>\n",
       "      <th>Country</th>\n",
       "      <th>Area</th>\n",
       "      <th>Location</th>\n",
       "      <th>Activity</th>\n",
       "      <th>Name</th>\n",
       "      <th>Sex</th>\n",
       "      <th>Age</th>\n",
       "      <th>Injury</th>\n",
       "      <th>Fatal (y/n)</th>\n",
       "      <th>Time</th>\n",
       "      <th>Specie</th>\n",
       "      <th>Investigator or source</th>\n",
       "      <th>Pdf</th>\n",
       "      <th>Href formula</th>\n",
       "      <th>Season</th>\n",
       "      <th>Attack Date</th>\n",
       "      <th>Year</th>\n",
       "      <th>Month</th>\n",
       "    </tr>\n",
       "  </thead>\n",
       "  <tbody>\n",
       "    <tr>\n",
       "      <th>0</th>\n",
       "      <td>2017.06.11</td>\n",
       "      <td>2017-06-11</td>\n",
       "      <td>2017</td>\n",
       "      <td>Unprovoked</td>\n",
       "      <td>AUSTRALIA</td>\n",
       "      <td>Western Australia</td>\n",
       "      <td>Point Casuarina, Bunbury</td>\n",
       "      <td>Body boarding</td>\n",
       "      <td>0</td>\n",
       "      <td>M</td>\n",
       "      <td>48</td>\n",
       "      <td>No injury, board bitten</td>\n",
       "      <td>N</td>\n",
       "      <td>08h30</td>\n",
       "      <td>White shark, 4 m</td>\n",
       "      <td>WA Today, 6/11/2017</td>\n",
       "      <td>0</td>\n",
       "      <td>0</td>\n",
       "      <td>0</td>\n",
       "      <td>2017.06.11</td>\n",
       "      <td>2017</td>\n",
       "      <td>06</td>\n",
       "    </tr>\n",
       "    <tr>\n",
       "      <th>1</th>\n",
       "      <td>2017.06.10.b</td>\n",
       "      <td>2017-06-10</td>\n",
       "      <td>2017</td>\n",
       "      <td>Unprovoked</td>\n",
       "      <td>AUSTRALIA</td>\n",
       "      <td>Victoria</td>\n",
       "      <td>Flinders, Mornington Penisula</td>\n",
       "      <td>Surfing</td>\n",
       "      <td>0</td>\n",
       "      <td>F</td>\n",
       "      <td>0</td>\n",
       "      <td>No injury, knocke off board</td>\n",
       "      <td>N</td>\n",
       "      <td>15h45</td>\n",
       "      <td>7 gill shark</td>\n",
       "      <td>0</td>\n",
       "      <td>0</td>\n",
       "      <td>0</td>\n",
       "      <td>0</td>\n",
       "      <td>2017.06.10</td>\n",
       "      <td>2017</td>\n",
       "      <td>06</td>\n",
       "    </tr>\n",
       "  </tbody>\n",
       "</table>\n",
       "</div>"
      ],
      "text/plain": [
       "    Case number        Date  Year        Type    Country               Area  \\\n",
       "0    2017.06.11  2017-06-11  2017  Unprovoked  AUSTRALIA  Western Australia   \n",
       "1  2017.06.10.b  2017-06-10  2017  Unprovoked  AUSTRALIA           Victoria   \n",
       "\n",
       "                        Location       Activity Name Sex Age  \\\n",
       "0       Point Casuarina, Bunbury  Body boarding    0   M  48   \n",
       "1  Flinders, Mornington Penisula        Surfing    0   F   0   \n",
       "\n",
       "                        Injury Fatal (y/n)   Time            Specie  \\\n",
       "0      No injury, board bitten           N  08h30  White shark, 4 m   \n",
       "1  No injury, knocke off board           N  15h45      7 gill shark   \n",
       "\n",
       "  Investigator or source Pdf  Href formula Season Attack Date  Year Month  \n",
       "0    WA Today, 6/11/2017   0             0      0  2017.06.11  2017    06  \n",
       "1                      0   0             0      0  2017.06.10  2017    06  "
      ]
     },
     "execution_count": 34,
     "metadata": {},
     "output_type": "execute_result"
    }
   ],
   "source": [
    "df.head(2)"
   ]
  },
  {
   "cell_type": "code",
   "execution_count": 28,
   "id": "a29f1e22",
   "metadata": {},
   "outputs": [],
   "source": [
    "# trasladamos los 4 primeros digitos de la columna Attack Date a Year ya que es el año\n",
    "df[\"Year\"] = df[\"Attack Date\"].str.slice(stop=4)\n",
    "\n",
    "# Copiar los siguientes 2 dígitos de Attack Date a Month\n",
    "df[\"Month\"] = df[\"Attack Date\"].str.slice(start=5, stop=7)"
   ]
  },
  {
   "cell_type": "code",
   "execution_count": 29,
   "id": "7680e156",
   "metadata": {},
   "outputs": [
    {
     "data": {
      "text/html": [
       "<div>\n",
       "<style scoped>\n",
       "    .dataframe tbody tr th:only-of-type {\n",
       "        vertical-align: middle;\n",
       "    }\n",
       "\n",
       "    .dataframe tbody tr th {\n",
       "        vertical-align: top;\n",
       "    }\n",
       "\n",
       "    .dataframe thead th {\n",
       "        text-align: right;\n",
       "    }\n",
       "</style>\n",
       "<table border=\"1\" class=\"dataframe\">\n",
       "  <thead>\n",
       "    <tr style=\"text-align: right;\">\n",
       "      <th></th>\n",
       "      <th>Case number</th>\n",
       "      <th>Date</th>\n",
       "      <th>Year</th>\n",
       "      <th>Type</th>\n",
       "      <th>Country</th>\n",
       "      <th>Area</th>\n",
       "      <th>Location</th>\n",
       "      <th>Activity</th>\n",
       "      <th>Name</th>\n",
       "      <th>Sex</th>\n",
       "      <th>Age</th>\n",
       "      <th>Injury</th>\n",
       "      <th>Fatal (y/n)</th>\n",
       "      <th>Time</th>\n",
       "      <th>Specie</th>\n",
       "      <th>Investigator or source</th>\n",
       "      <th>Pdf</th>\n",
       "      <th>Href formula</th>\n",
       "      <th>Href</th>\n",
       "      <th>Attack Date</th>\n",
       "      <th>Year</th>\n",
       "      <th>Month</th>\n",
       "    </tr>\n",
       "  </thead>\n",
       "  <tbody>\n",
       "    <tr>\n",
       "      <th>0</th>\n",
       "      <td>2017.06.11</td>\n",
       "      <td>2017-06-11</td>\n",
       "      <td>2017</td>\n",
       "      <td>Unprovoked</td>\n",
       "      <td>AUSTRALIA</td>\n",
       "      <td>Western Australia</td>\n",
       "      <td>Point Casuarina, Bunbury</td>\n",
       "      <td>Body boarding</td>\n",
       "      <td>0</td>\n",
       "      <td>M</td>\n",
       "      <td>48</td>\n",
       "      <td>No injury, board bitten</td>\n",
       "      <td>N</td>\n",
       "      <td>08h30</td>\n",
       "      <td>White shark, 4 m</td>\n",
       "      <td>WA Today, 6/11/2017</td>\n",
       "      <td>0</td>\n",
       "      <td>0</td>\n",
       "      <td>0</td>\n",
       "      <td>2017.06.11</td>\n",
       "      <td>2017</td>\n",
       "      <td>06</td>\n",
       "    </tr>\n",
       "    <tr>\n",
       "      <th>1</th>\n",
       "      <td>2017.06.10.b</td>\n",
       "      <td>2017-06-10</td>\n",
       "      <td>2017</td>\n",
       "      <td>Unprovoked</td>\n",
       "      <td>AUSTRALIA</td>\n",
       "      <td>Victoria</td>\n",
       "      <td>Flinders, Mornington Penisula</td>\n",
       "      <td>Surfing</td>\n",
       "      <td>0</td>\n",
       "      <td>F</td>\n",
       "      <td>0</td>\n",
       "      <td>No injury, knocke off board</td>\n",
       "      <td>N</td>\n",
       "      <td>15h45</td>\n",
       "      <td>7 gill shark</td>\n",
       "      <td>0</td>\n",
       "      <td>0</td>\n",
       "      <td>0</td>\n",
       "      <td>0</td>\n",
       "      <td>2017.06.10</td>\n",
       "      <td>2017</td>\n",
       "      <td>06</td>\n",
       "    </tr>\n",
       "    <tr>\n",
       "      <th>2</th>\n",
       "      <td>2017.06.10.a</td>\n",
       "      <td>2017-06-10</td>\n",
       "      <td>2017</td>\n",
       "      <td>Unprovoked</td>\n",
       "      <td>USA</td>\n",
       "      <td>Florida</td>\n",
       "      <td>Ponce Inlet, Volusia County</td>\n",
       "      <td>Surfing</td>\n",
       "      <td>0</td>\n",
       "      <td>M</td>\n",
       "      <td>19</td>\n",
       "      <td>Laceration to left foot</td>\n",
       "      <td>N</td>\n",
       "      <td>10h00</td>\n",
       "      <td>0</td>\n",
       "      <td>Daytona Beach News-Journal, 6/10/2017</td>\n",
       "      <td>0</td>\n",
       "      <td>0</td>\n",
       "      <td>0</td>\n",
       "      <td>2017.06.10</td>\n",
       "      <td>2017</td>\n",
       "      <td>06</td>\n",
       "    </tr>\n",
       "    <tr>\n",
       "      <th>3</th>\n",
       "      <td>2017.06.07.R</td>\n",
       "      <td>Reported 07-Jun-2017</td>\n",
       "      <td>2017</td>\n",
       "      <td>Unprovoked</td>\n",
       "      <td>UNITED KINGDOM</td>\n",
       "      <td>South Devon</td>\n",
       "      <td>Bantham Beach</td>\n",
       "      <td>Surfing</td>\n",
       "      <td>0</td>\n",
       "      <td>M</td>\n",
       "      <td>30</td>\n",
       "      <td>Bruise to leg, cuts to hand sustained when he ...</td>\n",
       "      <td>N</td>\n",
       "      <td>0</td>\n",
       "      <td>3m shark, probably a smooth hound</td>\n",
       "      <td>C. Moore, GSAF</td>\n",
       "      <td>0</td>\n",
       "      <td>0</td>\n",
       "      <td>0</td>\n",
       "      <td>2017.06.07</td>\n",
       "      <td>2017</td>\n",
       "      <td>06</td>\n",
       "    </tr>\n",
       "  </tbody>\n",
       "</table>\n",
       "</div>"
      ],
      "text/plain": [
       "    Case number                  Date  Year        Type         Country  \\\n",
       "0    2017.06.11            2017-06-11  2017  Unprovoked       AUSTRALIA   \n",
       "1  2017.06.10.b            2017-06-10  2017  Unprovoked       AUSTRALIA   \n",
       "2  2017.06.10.a            2017-06-10  2017  Unprovoked             USA   \n",
       "3  2017.06.07.R  Reported 07-Jun-2017  2017  Unprovoked  UNITED KINGDOM   \n",
       "\n",
       "                Area                       Location       Activity Name Sex  \\\n",
       "0  Western Australia       Point Casuarina, Bunbury  Body boarding    0   M   \n",
       "1           Victoria  Flinders, Mornington Penisula        Surfing    0   F   \n",
       "2            Florida    Ponce Inlet, Volusia County        Surfing    0   M   \n",
       "3        South Devon                  Bantham Beach       Surfing     0   M   \n",
       "\n",
       "  Age                                             Injury Fatal (y/n)   Time  \\\n",
       "0  48                            No injury, board bitten           N  08h30   \n",
       "1   0                        No injury, knocke off board           N  15h45   \n",
       "2  19                            Laceration to left foot           N  10h00   \n",
       "3  30  Bruise to leg, cuts to hand sustained when he ...           N      0   \n",
       "\n",
       "                              Specie                 Investigator or source  \\\n",
       "0                   White shark, 4 m                    WA Today, 6/11/2017   \n",
       "1                       7 gill shark                                      0   \n",
       "2                                  0  Daytona Beach News-Journal, 6/10/2017   \n",
       "3  3m shark, probably a smooth hound                         C. Moore, GSAF   \n",
       "\n",
       "  Pdf  Href formula Href Attack Date  Year Month  \n",
       "0   0             0    0  2017.06.11  2017    06  \n",
       "1   0             0    0  2017.06.10  2017    06  \n",
       "2   0             0    0  2017.06.10  2017    06  \n",
       "3   0             0    0  2017.06.07  2017    06  "
      ]
     },
     "execution_count": 29,
     "metadata": {},
     "output_type": "execute_result"
    }
   ],
   "source": [
    "# chequeamos para ver si podemos utilizarla despues de estas operaciones\n",
    "df.head(4)"
   ]
  },
  {
   "cell_type": "markdown",
   "id": "c1a64b3b",
   "metadata": {},
   "source": [
    "#### Duplico la columna de Meses, para poder obtener la misma informacion y asi trabajar y saber el numero de casos por estacion, solamente quiero tener 22 columnas, del cual voy a borrar una que no tenga informacion.\n",
    "\n"
   ]
  },
  {
   "cell_type": "code",
   "execution_count": 35,
   "id": "3070c71a",
   "metadata": {},
   "outputs": [],
   "source": [
    "df['Year Season'] = df['Month'] # duplicamos una nueva columna para hacer por estaciones del año"
   ]
  },
  {
   "cell_type": "code",
   "execution_count": 37,
   "id": "0e76d9a5",
   "metadata": {},
   "outputs": [],
   "source": [
    "df = df.drop('Case number', axis=1)"
   ]
  },
  {
   "cell_type": "code",
   "execution_count": 39,
   "id": "13b15ed4",
   "metadata": {},
   "outputs": [
    {
     "data": {
      "text/html": [
       "<div>\n",
       "<style scoped>\n",
       "    .dataframe tbody tr th:only-of-type {\n",
       "        vertical-align: middle;\n",
       "    }\n",
       "\n",
       "    .dataframe tbody tr th {\n",
       "        vertical-align: top;\n",
       "    }\n",
       "\n",
       "    .dataframe thead th {\n",
       "        text-align: right;\n",
       "    }\n",
       "</style>\n",
       "<table border=\"1\" class=\"dataframe\">\n",
       "  <thead>\n",
       "    <tr style=\"text-align: right;\">\n",
       "      <th></th>\n",
       "      <th>Date</th>\n",
       "      <th>Year</th>\n",
       "      <th>Type</th>\n",
       "      <th>Country</th>\n",
       "      <th>Area</th>\n",
       "      <th>Location</th>\n",
       "      <th>Activity</th>\n",
       "      <th>Name</th>\n",
       "      <th>Sex</th>\n",
       "      <th>Age</th>\n",
       "      <th>Injury</th>\n",
       "      <th>Fatal (y/n)</th>\n",
       "      <th>Time</th>\n",
       "      <th>Specie</th>\n",
       "      <th>Investigator or source</th>\n",
       "      <th>Pdf</th>\n",
       "      <th>Href formula</th>\n",
       "      <th>Season</th>\n",
       "      <th>Attack Date</th>\n",
       "      <th>Year</th>\n",
       "      <th>Month</th>\n",
       "      <th>Year Season</th>\n",
       "    </tr>\n",
       "  </thead>\n",
       "  <tbody>\n",
       "    <tr>\n",
       "      <th>0</th>\n",
       "      <td>2017-06-11</td>\n",
       "      <td>2017</td>\n",
       "      <td>Unprovoked</td>\n",
       "      <td>AUSTRALIA</td>\n",
       "      <td>Western Australia</td>\n",
       "      <td>Point Casuarina, Bunbury</td>\n",
       "      <td>Body boarding</td>\n",
       "      <td>0</td>\n",
       "      <td>M</td>\n",
       "      <td>48</td>\n",
       "      <td>No injury, board bitten</td>\n",
       "      <td>N</td>\n",
       "      <td>08h30</td>\n",
       "      <td>White shark, 4 m</td>\n",
       "      <td>WA Today, 6/11/2017</td>\n",
       "      <td>0</td>\n",
       "      <td>0</td>\n",
       "      <td>0</td>\n",
       "      <td>2017.06.11</td>\n",
       "      <td>2017</td>\n",
       "      <td>06</td>\n",
       "      <td>06</td>\n",
       "    </tr>\n",
       "    <tr>\n",
       "      <th>1</th>\n",
       "      <td>2017-06-10</td>\n",
       "      <td>2017</td>\n",
       "      <td>Unprovoked</td>\n",
       "      <td>AUSTRALIA</td>\n",
       "      <td>Victoria</td>\n",
       "      <td>Flinders, Mornington Penisula</td>\n",
       "      <td>Surfing</td>\n",
       "      <td>0</td>\n",
       "      <td>F</td>\n",
       "      <td>0</td>\n",
       "      <td>No injury, knocke off board</td>\n",
       "      <td>N</td>\n",
       "      <td>15h45</td>\n",
       "      <td>7 gill shark</td>\n",
       "      <td>0</td>\n",
       "      <td>0</td>\n",
       "      <td>0</td>\n",
       "      <td>0</td>\n",
       "      <td>2017.06.10</td>\n",
       "      <td>2017</td>\n",
       "      <td>06</td>\n",
       "      <td>06</td>\n",
       "    </tr>\n",
       "    <tr>\n",
       "      <th>2</th>\n",
       "      <td>2017-06-10</td>\n",
       "      <td>2017</td>\n",
       "      <td>Unprovoked</td>\n",
       "      <td>USA</td>\n",
       "      <td>Florida</td>\n",
       "      <td>Ponce Inlet, Volusia County</td>\n",
       "      <td>Surfing</td>\n",
       "      <td>0</td>\n",
       "      <td>M</td>\n",
       "      <td>19</td>\n",
       "      <td>Laceration to left foot</td>\n",
       "      <td>N</td>\n",
       "      <td>10h00</td>\n",
       "      <td>0</td>\n",
       "      <td>Daytona Beach News-Journal, 6/10/2017</td>\n",
       "      <td>0</td>\n",
       "      <td>0</td>\n",
       "      <td>0</td>\n",
       "      <td>2017.06.10</td>\n",
       "      <td>2017</td>\n",
       "      <td>06</td>\n",
       "      <td>06</td>\n",
       "    </tr>\n",
       "    <tr>\n",
       "      <th>3</th>\n",
       "      <td>Reported 07-Jun-2017</td>\n",
       "      <td>2017</td>\n",
       "      <td>Unprovoked</td>\n",
       "      <td>UNITED KINGDOM</td>\n",
       "      <td>South Devon</td>\n",
       "      <td>Bantham Beach</td>\n",
       "      <td>Surfing</td>\n",
       "      <td>0</td>\n",
       "      <td>M</td>\n",
       "      <td>30</td>\n",
       "      <td>Bruise to leg, cuts to hand sustained when he ...</td>\n",
       "      <td>N</td>\n",
       "      <td>0</td>\n",
       "      <td>3m shark, probably a smooth hound</td>\n",
       "      <td>C. Moore, GSAF</td>\n",
       "      <td>0</td>\n",
       "      <td>0</td>\n",
       "      <td>0</td>\n",
       "      <td>2017.06.07</td>\n",
       "      <td>2017</td>\n",
       "      <td>06</td>\n",
       "      <td>06</td>\n",
       "    </tr>\n",
       "    <tr>\n",
       "      <th>4</th>\n",
       "      <td>2017-06-04</td>\n",
       "      <td>2017</td>\n",
       "      <td>Unprovoked</td>\n",
       "      <td>USA</td>\n",
       "      <td>Florida</td>\n",
       "      <td>Middle Sambo Reef off Boca Chica, Monroe County</td>\n",
       "      <td>Spearfishing</td>\n",
       "      <td>0</td>\n",
       "      <td>M</td>\n",
       "      <td>0</td>\n",
       "      <td>Laceration to shin</td>\n",
       "      <td>N</td>\n",
       "      <td>0</td>\n",
       "      <td>8' shark</td>\n",
       "      <td>Nine News, 6/7/2017</td>\n",
       "      <td>0</td>\n",
       "      <td>0</td>\n",
       "      <td>0</td>\n",
       "      <td>2017.06.04</td>\n",
       "      <td>2017</td>\n",
       "      <td>06</td>\n",
       "      <td>06</td>\n",
       "    </tr>\n",
       "    <tr>\n",
       "      <th>...</th>\n",
       "      <td>...</td>\n",
       "      <td>...</td>\n",
       "      <td>...</td>\n",
       "      <td>...</td>\n",
       "      <td>...</td>\n",
       "      <td>...</td>\n",
       "      <td>...</td>\n",
       "      <td>...</td>\n",
       "      <td>...</td>\n",
       "      <td>...</td>\n",
       "      <td>...</td>\n",
       "      <td>...</td>\n",
       "      <td>...</td>\n",
       "      <td>...</td>\n",
       "      <td>...</td>\n",
       "      <td>...</td>\n",
       "      <td>...</td>\n",
       "      <td>...</td>\n",
       "      <td>...</td>\n",
       "      <td>...</td>\n",
       "      <td>...</td>\n",
       "      <td>...</td>\n",
       "    </tr>\n",
       "    <tr>\n",
       "      <th>6092</th>\n",
       "      <td>1883-1889</td>\n",
       "      <td>NoDa</td>\n",
       "      <td>Unprovoked</td>\n",
       "      <td>PANAMA</td>\n",
       "      <td>0</td>\n",
       "      <td>Panama Bay 8N, 79W</td>\n",
       "      <td>0</td>\n",
       "      <td>0</td>\n",
       "      <td>M</td>\n",
       "      <td>0</td>\n",
       "      <td>FATAL</td>\n",
       "      <td>Y</td>\n",
       "      <td>0</td>\n",
       "      <td>0</td>\n",
       "      <td>The Sun, 10/20/1938</td>\n",
       "      <td>0</td>\n",
       "      <td>0</td>\n",
       "      <td>0</td>\n",
       "      <td>NoDataGivenD.0002</td>\n",
       "      <td>NoDa</td>\n",
       "      <td>aG</td>\n",
       "      <td>aG</td>\n",
       "    </tr>\n",
       "    <tr>\n",
       "      <th>6093</th>\n",
       "      <td>1845-1853</td>\n",
       "      <td>NoDa</td>\n",
       "      <td>Unprovoked</td>\n",
       "      <td>CEYLON (SRI LANKA)</td>\n",
       "      <td>Eastern Province</td>\n",
       "      <td>Below the English fort, Trincomalee</td>\n",
       "      <td>Swimming</td>\n",
       "      <td>0</td>\n",
       "      <td>M</td>\n",
       "      <td>15</td>\n",
       "      <td>FATAL. \"Shark bit him in half, carrying away t...</td>\n",
       "      <td>Y</td>\n",
       "      <td>0</td>\n",
       "      <td>0</td>\n",
       "      <td>S.W. Baker</td>\n",
       "      <td>0</td>\n",
       "      <td>0</td>\n",
       "      <td>0</td>\n",
       "      <td>NoDataGivenD.0001</td>\n",
       "      <td>NoDa</td>\n",
       "      <td>aG</td>\n",
       "      <td>aG</td>\n",
       "    </tr>\n",
       "    <tr>\n",
       "      <th>6094</th>\n",
       "      <td>0</td>\n",
       "      <td>0</td>\n",
       "      <td>0</td>\n",
       "      <td>0</td>\n",
       "      <td>0</td>\n",
       "      <td>0</td>\n",
       "      <td>0</td>\n",
       "      <td>0</td>\n",
       "      <td>0</td>\n",
       "      <td>0</td>\n",
       "      <td>0</td>\n",
       "      <td>0</td>\n",
       "      <td>0</td>\n",
       "      <td>0</td>\n",
       "      <td>0</td>\n",
       "      <td>0</td>\n",
       "      <td>0</td>\n",
       "      <td>0</td>\n",
       "      <td>0</td>\n",
       "      <td>0</td>\n",
       "      <td></td>\n",
       "      <td></td>\n",
       "    </tr>\n",
       "    <tr>\n",
       "      <th>6101</th>\n",
       "      <td>0</td>\n",
       "      <td>0</td>\n",
       "      <td>0</td>\n",
       "      <td>0</td>\n",
       "      <td>0</td>\n",
       "      <td>0</td>\n",
       "      <td>0</td>\n",
       "      <td>0</td>\n",
       "      <td>0</td>\n",
       "      <td>0</td>\n",
       "      <td>0</td>\n",
       "      <td>0</td>\n",
       "      <td>0</td>\n",
       "      <td>N</td>\n",
       "      <td>0</td>\n",
       "      <td>0</td>\n",
       "      <td>0</td>\n",
       "      <td>0</td>\n",
       "      <td>0</td>\n",
       "      <td>0</td>\n",
       "      <td></td>\n",
       "      <td></td>\n",
       "    </tr>\n",
       "    <tr>\n",
       "      <th>25613</th>\n",
       "      <td>0</td>\n",
       "      <td>0</td>\n",
       "      <td>0</td>\n",
       "      <td>0</td>\n",
       "      <td>0</td>\n",
       "      <td>0</td>\n",
       "      <td>0</td>\n",
       "      <td>0</td>\n",
       "      <td>0</td>\n",
       "      <td>0</td>\n",
       "      <td>0</td>\n",
       "      <td>0</td>\n",
       "      <td>0</td>\n",
       "      <td>0</td>\n",
       "      <td>0</td>\n",
       "      <td>0</td>\n",
       "      <td>0</td>\n",
       "      <td>0</td>\n",
       "      <td>0</td>\n",
       "      <td>0</td>\n",
       "      <td></td>\n",
       "      <td></td>\n",
       "    </tr>\n",
       "  </tbody>\n",
       "</table>\n",
       "<p>6097 rows × 22 columns</p>\n",
       "</div>"
      ],
      "text/plain": [
       "                       Date  Year        Type             Country  \\\n",
       "0                2017-06-11  2017  Unprovoked           AUSTRALIA   \n",
       "1                2017-06-10  2017  Unprovoked           AUSTRALIA   \n",
       "2                2017-06-10  2017  Unprovoked                 USA   \n",
       "3      Reported 07-Jun-2017  2017  Unprovoked      UNITED KINGDOM   \n",
       "4                2017-06-04  2017  Unprovoked                 USA   \n",
       "...                     ...   ...         ...                 ...   \n",
       "6092              1883-1889  NoDa  Unprovoked              PANAMA   \n",
       "6093              1845-1853  NoDa  Unprovoked  CEYLON (SRI LANKA)   \n",
       "6094                      0     0           0                   0   \n",
       "6101                      0     0           0                   0   \n",
       "25613                     0     0           0                   0   \n",
       "\n",
       "                    Area                                         Location  \\\n",
       "0      Western Australia                         Point Casuarina, Bunbury   \n",
       "1               Victoria                    Flinders, Mornington Penisula   \n",
       "2                Florida                      Ponce Inlet, Volusia County   \n",
       "3            South Devon                                    Bantham Beach   \n",
       "4                Florida  Middle Sambo Reef off Boca Chica, Monroe County   \n",
       "...                  ...                                              ...   \n",
       "6092                   0                               Panama Bay 8N, 79W   \n",
       "6093    Eastern Province              Below the English fort, Trincomalee   \n",
       "6094                   0                                                0   \n",
       "6101                   0                                                0   \n",
       "25613                  0                                                0   \n",
       "\n",
       "            Activity Name Sex Age  \\\n",
       "0      Body boarding    0   M  48   \n",
       "1            Surfing    0   F   0   \n",
       "2            Surfing    0   M  19   \n",
       "3           Surfing     0   M  30   \n",
       "4       Spearfishing    0   M   0   \n",
       "...              ...  ...  ..  ..   \n",
       "6092               0    0   M   0   \n",
       "6093        Swimming    0   M  15   \n",
       "6094               0    0   0   0   \n",
       "6101               0    0   0   0   \n",
       "25613              0    0   0   0   \n",
       "\n",
       "                                                  Injury Fatal (y/n)   Time  \\\n",
       "0                                No injury, board bitten           N  08h30   \n",
       "1                            No injury, knocke off board           N  15h45   \n",
       "2                                Laceration to left foot           N  10h00   \n",
       "3      Bruise to leg, cuts to hand sustained when he ...           N      0   \n",
       "4                                     Laceration to shin           N      0   \n",
       "...                                                  ...         ...    ...   \n",
       "6092                                               FATAL           Y      0   \n",
       "6093   FATAL. \"Shark bit him in half, carrying away t...           Y      0   \n",
       "6094                                                   0           0      0   \n",
       "6101                                                   0           0      0   \n",
       "25613                                                  0           0      0   \n",
       "\n",
       "                                  Specie  \\\n",
       "0                       White shark, 4 m   \n",
       "1                           7 gill shark   \n",
       "2                                      0   \n",
       "3      3m shark, probably a smooth hound   \n",
       "4                               8' shark   \n",
       "...                                  ...   \n",
       "6092                                   0   \n",
       "6093                                   0   \n",
       "6094                                   0   \n",
       "6101                                   N   \n",
       "25613                                  0   \n",
       "\n",
       "                      Investigator or source Pdf  Href formula Season  \\\n",
       "0                        WA Today, 6/11/2017   0             0      0   \n",
       "1                                          0   0             0      0   \n",
       "2      Daytona Beach News-Journal, 6/10/2017   0             0      0   \n",
       "3                             C. Moore, GSAF   0             0      0   \n",
       "4                        Nine News, 6/7/2017   0             0      0   \n",
       "...                                      ...  ..           ...    ...   \n",
       "6092                     The Sun, 10/20/1938   0             0      0   \n",
       "6093                              S.W. Baker   0             0      0   \n",
       "6094                                       0   0             0      0   \n",
       "6101                                       0   0             0      0   \n",
       "25613                                      0   0             0      0   \n",
       "\n",
       "             Attack Date  Year Month Year Season  \n",
       "0             2017.06.11  2017    06          06  \n",
       "1             2017.06.10  2017    06          06  \n",
       "2             2017.06.10  2017    06          06  \n",
       "3             2017.06.07  2017    06          06  \n",
       "4             2017.06.04  2017    06          06  \n",
       "...                  ...   ...   ...         ...  \n",
       "6092   NoDataGivenD.0002  NoDa    aG          aG  \n",
       "6093   NoDataGivenD.0001  NoDa    aG          aG  \n",
       "6094                   0     0                    \n",
       "6101                   0     0                    \n",
       "25613                  0     0                    \n",
       "\n",
       "[6097 rows x 22 columns]"
      ]
     },
     "execution_count": 39,
     "metadata": {},
     "output_type": "execute_result"
    }
   ],
   "source": [
    "df"
   ]
  },
  {
   "cell_type": "markdown",
   "id": "c01053e4",
   "metadata": {},
   "source": [
    "# 3. - Analizando la tabla y sacando conlusiones.\n",
    "\n",
    "## Mi objetivo son los siguientes:\n",
    "\n",
    "#### 3. 1 - Numero de registros realizados.\n",
    "#### 3. 2 - En que temporada del año estos ataques fueron mas frecuentes.\n",
    "#### 3. 3 - Que pais tiene el numero mas elevado de ataques (top 5).\n",
    "#### 3. 4 - Entre hombres y mujeres, quienes son los mas afectados.\n",
    "#### 3. 5 - Cuantos casos fueron grabados como Fatales. (los casos mas grabes)\n",
    "#### 3. 6 - Que tipo de actividades causaron estos ataques (top 5).\n",
    "#### 3. 7 - Que tipo de tiburon es el mas peligroso o que mas intervinió, debido a estos datos.\n",
    "#### 3. 8 - Numero de ataques por año ( de los ultimos 30 años).\n"
   ]
  },
  {
   "cell_type": "markdown",
   "id": "e6703b76",
   "metadata": {},
   "source": [
    "## 3. 1 - Numero de registros realizados"
   ]
  },
  {
   "cell_type": "code",
   "execution_count": 46,
   "id": "f7482fb8",
   "metadata": {},
   "outputs": [
    {
     "data": {
      "text/plain": [
       "(25614, 22)"
      ]
     },
     "execution_count": 46,
     "metadata": {},
     "output_type": "execute_result"
    }
   ],
   "source": [
    "data_shark.shape"
   ]
  },
  {
   "cell_type": "markdown",
   "id": "16699539",
   "metadata": {},
   "source": [
    "#### Vemos que estos datos tienen 25614 datos registrados en total a la fecha de hoy."
   ]
  },
  {
   "cell_type": "markdown",
   "id": "b758bf87",
   "metadata": {},
   "source": [
    "# 3. 2 - En que temporada del año estos ataques fueron mas frecuentes.\n",
    "Creamos una funcion para determinar en que mes fue el ataque y asi asociarlo a la estacion del año. Vemos el resultado y lo plasmamos en un grafico para visualizarlo."
   ]
  },
  {
   "cell_type": "code",
   "execution_count": 40,
   "id": "06c1e4f0",
   "metadata": {},
   "outputs": [],
   "source": [
    "def get_season(month):\n",
    "    if month in ['12', '01', '02']:\n",
    "        return 'Winter'\n",
    "    elif month in ['03', '04', '05']:\n",
    "        return 'Spring'\n",
    "    elif month in ['06', '07', '08']:\n",
    "        return 'Summer'\n",
    "    elif month in ['09', '10', '11']:\n",
    "        return 'Autumn'\n",
    "\n",
    "# Aplicar la función al DataFrame y crear una nueva columna llamada 'estacion'\n",
    "df['Year Season'] = df['Year Season'].apply(get_season)"
   ]
  },
  {
   "cell_type": "code",
   "execution_count": 42,
   "id": "21082fcb",
   "metadata": {},
   "outputs": [
    {
     "data": {
      "text/plain": [
       "Summer    1703\n",
       "Autumn    1344\n",
       "Winter    1312\n",
       "Spring    1213\n",
       "Name: Year Season, dtype: int64"
      ]
     },
     "execution_count": 42,
     "metadata": {},
     "output_type": "execute_result"
    }
   ],
   "source": [
    "seasons = df['Year Season'].value_counts()\n",
    "seasons"
   ]
  },
  {
   "cell_type": "code",
   "execution_count": 43,
   "id": "79803ba4",
   "metadata": {},
   "outputs": [
    {
     "data": {
      "text/plain": [
       "<AxesSubplot:ylabel='Year Season'>"
      ]
     },
     "execution_count": 43,
     "metadata": {},
     "output_type": "execute_result"
    },
    {
     "data": {
      "image/png": "[encoded data removed]",
      "text/plain": [
       "<Figure size 640x480 with 1 Axes>"
      ]
     },
     "metadata": {},
     "output_type": "display_data"
    }
   ],
   "source": [
    "seasons.plot.pie()"
   ]
  },
  {
   "cell_type": "markdown",
   "id": "5decf9ac",
   "metadata": {},
   "source": [
    "### 3. 3 - Que pais tiene el numero mas elevado de ataques (top 5).\n"
   ]
  },
  {
   "cell_type": "code",
   "execution_count": 50,
   "id": "b5b3f17b",
   "metadata": {},
   "outputs": [
    {
     "data": {
      "text/plain": [
       "USA                 2160\n",
       "AUSTRALIA           1303\n",
       "SOUTH AFRICA         571\n",
       "PAPUA NEW GUINEA     133\n",
       "NEW ZEALAND          126\n",
       "Name: Country, dtype: int64"
      ]
     },
     "execution_count": 50,
     "metadata": {},
     "output_type": "execute_result"
    }
   ],
   "source": [
    "Country_counts = df['Country'].value_counts()\n",
    "top_5_country = Country_counts.head(5)\n",
    "top_5_country"
   ]
  },
  {
   "cell_type": "code",
   "execution_count": 51,
   "id": "d1fd1476",
   "metadata": {
    "scrolled": false
   },
   "outputs": [
    {
     "data": {
      "text/plain": [
       "<AxesSubplot:ylabel='Country'>"
      ]
     },
     "execution_count": 51,
     "metadata": {},
     "output_type": "execute_result"
    },
    {
     "data": {
      "image/png": "[encoded data removed]",
      "text/plain": [
       "<Figure size 640x480 with 1 Axes>"
      ]
     },
     "metadata": {},
     "output_type": "display_data"
    }
   ],
   "source": [
    "top_5_country.plot.pie()"
   ]
  },
  {
   "cell_type": "markdown",
   "id": "254706e7",
   "metadata": {},
   "source": [
    "# 3. 4 - Entre hombres y mujeres, quienes son los mas afectados."
   ]
  },
  {
   "cell_type": "code",
   "execution_count": 60,
   "id": "add8d9b7",
   "metadata": {},
   "outputs": [],
   "source": [
    "# Porcentaje por Sexo\n",
    "Sex_counts = df['Sex'].value_counts()\n",
    "Sex_percentages = Sex_counts / len(df) * 100\n",
    "S_percentage = Sex_percentages.head(2)"
   ]
  },
  {
   "cell_type": "code",
   "execution_count": 61,
   "id": "334b44da",
   "metadata": {},
   "outputs": [
    {
     "data": {
      "text/plain": [
       "M    80.465803\n",
       "F     9.939314\n",
       "Name: Sex, dtype: float64"
      ]
     },
     "execution_count": 61,
     "metadata": {},
     "output_type": "execute_result"
    }
   ],
   "source": [
    "S_percentage"
   ]
  },
  {
   "cell_type": "code",
   "execution_count": 62,
   "id": "50b08bb3",
   "metadata": {},
   "outputs": [
    {
     "data": {
      "text/plain": [
       "<AxesSubplot:ylabel='Sex'>"
      ]
     },
     "execution_count": 62,
     "metadata": {},
     "output_type": "execute_result"
    },
    {
     "data": {
      "image/png": "[encoded data removed]",
      "text/plain": [
       "<Figure size 640x480 with 1 Axes>"
      ]
     },
     "metadata": {},
     "output_type": "display_data"
    }
   ],
   "source": [
    "S_percentage.plot.pie()"
   ]
  },
  {
   "cell_type": "markdown",
   "id": "5eafb0a6",
   "metadata": {},
   "source": [
    "# 3. 5 - Cuantos casos fueron grabados como Fatales. (los 8 casos mas grabes)"
   ]
  },
  {
   "cell_type": "code",
   "execution_count": 65,
   "id": "dde6871d",
   "metadata": {},
   "outputs": [],
   "source": [
    "injuries = df['Injury'].value_counts()\n",
    "injurie = injuries.head(8)"
   ]
  },
  {
   "cell_type": "code",
   "execution_count": 66,
   "id": "74f50858",
   "metadata": {},
   "outputs": [
    {
     "data": {
      "text/plain": [
       "FATAL                746\n",
       "Survived              97\n",
       "Foot bitten           83\n",
       "No injury             79\n",
       "Leg bitten            71\n",
       "Left foot bitten      49\n",
       "No details            43\n",
       "Right foot bitten     39\n",
       "Name: Injury, dtype: int64"
      ]
     },
     "execution_count": 66,
     "metadata": {},
     "output_type": "execute_result"
    }
   ],
   "source": [
    "injurie"
   ]
  },
  {
   "cell_type": "code",
   "execution_count": 67,
   "id": "36cd6b5e",
   "metadata": {},
   "outputs": [
    {
     "data": {
      "text/plain": [
       "<AxesSubplot:ylabel='Injury'>"
      ]
     },
     "execution_count": 67,
     "metadata": {},
     "output_type": "execute_result"
    },
    {
     "data": {
      "image/png": "[encoded data removed]",
      "text/plain": [
       "<Figure size 640x480 with 1 Axes>"
      ]
     },
     "metadata": {},
     "output_type": "display_data"
    }
   ],
   "source": [
    "injurie.plot.pie()"
   ]
  },
  {
   "cell_type": "markdown",
   "id": "5311659e",
   "metadata": {},
   "source": [
    "# 3. 6 - Que tipo de actividades causaron estos ataques (top 5)"
   ]
  },
  {
   "cell_type": "code",
   "execution_count": 68,
   "id": "057b2547",
   "metadata": {},
   "outputs": [
    {
     "data": {
      "text/plain": [
       "Surfing         15.269805\n",
       "Swimming        13.646055\n",
       "0                8.824012\n",
       "Fishing          6.806626\n",
       "Spearfishing     5.330490\n",
       "Bathing          2.525832\n",
       "Wading           2.394620\n",
       "Diving           2.050189\n",
       "Standing         1.590946\n",
       "Snorkeling       1.361325\n",
       "Name: Activity, dtype: float64"
      ]
     },
     "execution_count": 68,
     "metadata": {},
     "output_type": "execute_result"
    }
   ],
   "source": [
    "activity = df['Activity'].value_counts()\n",
    "activity_percentage = activity.head(10) / len(df) *100\n",
    "activity_percentage"
   ]
  },
  {
   "cell_type": "code",
   "execution_count": 69,
   "id": "9afdb57f",
   "metadata": {},
   "outputs": [
    {
     "data": {
      "text/plain": [
       "<AxesSubplot:ylabel='Activity'>"
      ]
     },
     "execution_count": 69,
     "metadata": {},
     "output_type": "execute_result"
    },
    {
     "data": {
      "image/png": "[encoded data removed]",
      "text/plain": [
       "<Figure size 640x480 with 1 Axes>"
      ]
     },
     "metadata": {},
     "output_type": "display_data"
    }
   ],
   "source": [
    "activity_percentage.plot.pie()"
   ]
  },
  {
   "cell_type": "markdown",
   "id": "7d15f687",
   "metadata": {},
   "source": [
    "# 3. 7 - Que tipo de tiburon es el mas peligroso o que mas intervinió, debido a estos datos"
   ]
  },
  {
   "cell_type": "code",
   "execution_count": 70,
   "id": "34591fad",
   "metadata": {},
   "outputs": [
    {
     "data": {
      "text/plain": [
       "0                                  2997\n",
       "White shark                         164\n",
       "Shark involvement not confirmed      81\n",
       "Tiger shark                          73\n",
       "Bull shark                           53\n",
       "Name: Specie, dtype: int64"
      ]
     },
     "execution_count": 70,
     "metadata": {},
     "output_type": "execute_result"
    }
   ],
   "source": [
    "Type_of_Shark = df['Specie'].value_counts()\n",
    "Top_Shark_Species = Type_of_Shark.head(5)\n",
    "Top_Shark_Species"
   ]
  },
  {
   "cell_type": "code",
   "execution_count": 71,
   "id": "e56574ba",
   "metadata": {},
   "outputs": [
    {
     "data": {
      "text/plain": [
       "<AxesSubplot:ylabel='Specie'>"
      ]
     },
     "execution_count": 71,
     "metadata": {},
     "output_type": "execute_result"
    },
    {
     "data": {
      "image/png": "[encoded data removed]",
      "text/plain": [
       "<Figure size 640x480 with 1 Axes>"
      ]
     },
     "metadata": {},
     "output_type": "display_data"
    }
   ],
   "source": [
    "Top_Shark_Species.plot.pie()"
   ]
  },
  {
   "cell_type": "markdown",
   "id": "f7d59b7c",
   "metadata": {},
   "source": [
    "# 3. 7 - Que tipo de tiburon es el mas peligroso o que mas intervinió, debido a estos datos"
   ]
  },
  {
   "cell_type": "markdown",
   "id": "06712179",
   "metadata": {},
   "source": [
    "##### De entre todos los tiburones más peligrosos del mundo, el gran tiburón blanco es el más mortífero de todos ellos. No en vano, es el depredador más grande y peligroso de todos los océanos. Algunos pueden llegar a pesar más de una tonelada. Suelen habitar aguas de América del Norte, el sur de África y Australia."
   ]
  },
  {
   "cell_type": "code",
   "execution_count": 75,
   "id": "693bb7a4",
   "metadata": {},
   "outputs": [
    {
     "data": {
      "text/plain": [
       "0                                  2997\n",
       "White shark                         164\n",
       "Shark involvement not confirmed      81\n",
       "Tiger shark                          73\n",
       "Bull shark                           53\n",
       "Name: Specie, dtype: int64"
      ]
     },
     "execution_count": 75,
     "metadata": {},
     "output_type": "execute_result"
    }
   ],
   "source": [
    "Sharks_type = df['Specie'].value_counts()\n",
    "Sharks_top_5 = Sharks_type.head(5)\n",
    "Sharks_top_5"
   ]
  },
  {
   "cell_type": "code",
   "execution_count": 76,
   "id": "03327543",
   "metadata": {},
   "outputs": [
    {
     "data": {
      "text/plain": [
       "<AxesSubplot:ylabel='Specie'>"
      ]
     },
     "execution_count": 76,
     "metadata": {},
     "output_type": "execute_result"
    },
    {
     "data": {
      "image/png": "[encoded data removed]",
      "text/plain": [
       "<Figure size 640x480 with 1 Axes>"
      ]
     },
     "metadata": {},
     "output_type": "display_data"
    }
   ],
   "source": [
    "Sharks_top_5.plot.pie()"
   ]
  },
  {
   "cell_type": "markdown",
   "id": "27578e7f",
   "metadata": {},
   "source": [
    "# 3. 8 - Numero de ataques por año ( de los ultimos 30 años)."
   ]
  },
  {
   "cell_type": "code",
   "execution_count": 103,
   "id": "2b56219c",
   "metadata": {},
   "outputs": [
    {
     "data": {
      "text/html": [
       "<div>\n",
       "<style scoped>\n",
       "    .dataframe tbody tr th:only-of-type {\n",
       "        vertical-align: middle;\n",
       "    }\n",
       "\n",
       "    .dataframe tbody tr th {\n",
       "        vertical-align: top;\n",
       "    }\n",
       "\n",
       "    .dataframe thead th {\n",
       "        text-align: right;\n",
       "    }\n",
       "</style>\n",
       "<table border=\"1\" class=\"dataframe\">\n",
       "  <thead>\n",
       "    <tr style=\"text-align: right;\">\n",
       "      <th></th>\n",
       "      <th>Date</th>\n",
       "      <th>Year</th>\n",
       "      <th>Type</th>\n",
       "      <th>Country</th>\n",
       "      <th>Area</th>\n",
       "      <th>Location</th>\n",
       "      <th>Activity</th>\n",
       "      <th>Name</th>\n",
       "      <th>Sex</th>\n",
       "      <th>Age</th>\n",
       "      <th>Injury</th>\n",
       "      <th>Fatal (y/n)</th>\n",
       "      <th>Time</th>\n",
       "      <th>Specie</th>\n",
       "      <th>Investigator or source</th>\n",
       "      <th>Pdf</th>\n",
       "      <th>Href formula</th>\n",
       "      <th>Season</th>\n",
       "      <th>Attack Date</th>\n",
       "      <th>Year</th>\n",
       "      <th>Month</th>\n",
       "      <th>Year Season</th>\n",
       "    </tr>\n",
       "  </thead>\n",
       "  <tbody>\n",
       "    <tr>\n",
       "      <th>0</th>\n",
       "      <td>2017-06-11</td>\n",
       "      <td>2017</td>\n",
       "      <td>Unprovoked</td>\n",
       "      <td>AUSTRALIA</td>\n",
       "      <td>Western Australia</td>\n",
       "      <td>Point Casuarina, Bunbury</td>\n",
       "      <td>Body boarding</td>\n",
       "      <td>0</td>\n",
       "      <td>M</td>\n",
       "      <td>48</td>\n",
       "      <td>No injury, board bitten</td>\n",
       "      <td>N</td>\n",
       "      <td>08h30</td>\n",
       "      <td>White shark, 4 m</td>\n",
       "      <td>WA Today, 6/11/2017</td>\n",
       "      <td>0</td>\n",
       "      <td>0</td>\n",
       "      <td>0</td>\n",
       "      <td>2017</td>\n",
       "      <td>2017</td>\n",
       "      <td>06</td>\n",
       "      <td>Summer</td>\n",
       "    </tr>\n",
       "    <tr>\n",
       "      <th>1</th>\n",
       "      <td>2017-06-10</td>\n",
       "      <td>2017</td>\n",
       "      <td>Unprovoked</td>\n",
       "      <td>AUSTRALIA</td>\n",
       "      <td>Victoria</td>\n",
       "      <td>Flinders, Mornington Penisula</td>\n",
       "      <td>Surfing</td>\n",
       "      <td>0</td>\n",
       "      <td>F</td>\n",
       "      <td>0</td>\n",
       "      <td>No injury, knocke off board</td>\n",
       "      <td>N</td>\n",
       "      <td>15h45</td>\n",
       "      <td>7 gill shark</td>\n",
       "      <td>0</td>\n",
       "      <td>0</td>\n",
       "      <td>0</td>\n",
       "      <td>0</td>\n",
       "      <td>2017</td>\n",
       "      <td>2017</td>\n",
       "      <td>06</td>\n",
       "      <td>Summer</td>\n",
       "    </tr>\n",
       "  </tbody>\n",
       "</table>\n",
       "</div>"
      ],
      "text/plain": [
       "         Date  Year        Type    Country               Area  \\\n",
       "0  2017-06-11  2017  Unprovoked  AUSTRALIA  Western Australia   \n",
       "1  2017-06-10  2017  Unprovoked  AUSTRALIA           Victoria   \n",
       "\n",
       "                        Location       Activity Name Sex Age  \\\n",
       "0       Point Casuarina, Bunbury  Body boarding    0   M  48   \n",
       "1  Flinders, Mornington Penisula        Surfing    0   F   0   \n",
       "\n",
       "                        Injury Fatal (y/n)   Time            Specie  \\\n",
       "0      No injury, board bitten           N  08h30  White shark, 4 m   \n",
       "1  No injury, knocke off board           N  15h45      7 gill shark   \n",
       "\n",
       "  Investigator or source Pdf  Href formula Season Attack Date  Year Month  \\\n",
       "0    WA Today, 6/11/2017   0             0      0        2017  2017    06   \n",
       "1                      0   0             0      0        2017  2017    06   \n",
       "\n",
       "  Year Season  \n",
       "0      Summer  \n",
       "1      Summer  "
      ]
     },
     "execution_count": 103,
     "metadata": {},
     "output_type": "execute_result"
    }
   ],
   "source": [
    "df.head(2)"
   ]
  },
  {
   "cell_type": "code",
   "execution_count": 127,
   "id": "7b9714fd",
   "metadata": {},
   "outputs": [
    {
     "data": {
      "text/html": [
       "<div>\n",
       "<style scoped>\n",
       "    .dataframe tbody tr th:only-of-type {\n",
       "        vertical-align: middle;\n",
       "    }\n",
       "\n",
       "    .dataframe tbody tr th {\n",
       "        vertical-align: top;\n",
       "    }\n",
       "\n",
       "    .dataframe thead th {\n",
       "        text-align: right;\n",
       "    }\n",
       "</style>\n",
       "<table border=\"1\" class=\"dataframe\">\n",
       "  <thead>\n",
       "    <tr style=\"text-align: right;\">\n",
       "      <th></th>\n",
       "      <th>Attack Date</th>\n",
       "      <th>count</th>\n",
       "    </tr>\n",
       "  </thead>\n",
       "  <tbody>\n",
       "    <tr>\n",
       "      <th>0</th>\n",
       "      <td>2015</td>\n",
       "      <td>142</td>\n",
       "    </tr>\n",
       "    <tr>\n",
       "      <th>1</th>\n",
       "      <td>2011</td>\n",
       "      <td>128</td>\n",
       "    </tr>\n",
       "    <tr>\n",
       "      <th>2</th>\n",
       "      <td>2016</td>\n",
       "      <td>127</td>\n",
       "    </tr>\n",
       "    <tr>\n",
       "      <th>3</th>\n",
       "      <td>2014</td>\n",
       "      <td>125</td>\n",
       "    </tr>\n",
       "    <tr>\n",
       "      <th>4</th>\n",
       "      <td>2013</td>\n",
       "      <td>123</td>\n",
       "    </tr>\n",
       "    <tr>\n",
       "      <th>5</th>\n",
       "      <td>2008</td>\n",
       "      <td>122</td>\n",
       "    </tr>\n",
       "    <tr>\n",
       "      <th>6</th>\n",
       "      <td>2009</td>\n",
       "      <td>120</td>\n",
       "    </tr>\n",
       "    <tr>\n",
       "      <th>7</th>\n",
       "      <td>NoDa</td>\n",
       "      <td>119</td>\n",
       "    </tr>\n",
       "    <tr>\n",
       "      <th>8</th>\n",
       "      <td>2012</td>\n",
       "      <td>117</td>\n",
       "    </tr>\n",
       "    <tr>\n",
       "      <th>9</th>\n",
       "      <td>2007</td>\n",
       "      <td>112</td>\n",
       "    </tr>\n",
       "    <tr>\n",
       "      <th>10</th>\n",
       "      <td>2005</td>\n",
       "      <td>103</td>\n",
       "    </tr>\n",
       "    <tr>\n",
       "      <th>11</th>\n",
       "      <td>2006</td>\n",
       "      <td>103</td>\n",
       "    </tr>\n",
       "    <tr>\n",
       "      <th>12</th>\n",
       "      <td>2010</td>\n",
       "      <td>101</td>\n",
       "    </tr>\n",
       "    <tr>\n",
       "      <th>13</th>\n",
       "      <td>2000</td>\n",
       "      <td>97</td>\n",
       "    </tr>\n",
       "    <tr>\n",
       "      <th>14</th>\n",
       "      <td>1960</td>\n",
       "      <td>93</td>\n",
       "    </tr>\n",
       "  </tbody>\n",
       "</table>\n",
       "</div>"
      ],
      "text/plain": [
       "   Attack Date  count\n",
       "0         2015    142\n",
       "1         2011    128\n",
       "2         2016    127\n",
       "3         2014    125\n",
       "4         2013    123\n",
       "5         2008    122\n",
       "6         2009    120\n",
       "7         NoDa    119\n",
       "8         2012    117\n",
       "9         2007    112\n",
       "10        2005    103\n",
       "11        2006    103\n",
       "12        2010    101\n",
       "13        2000     97\n",
       "14        1960     93"
      ]
     },
     "execution_count": 127,
     "metadata": {},
     "output_type": "execute_result"
    }
   ],
   "source": [
    "df['Attack Date'] = df['Attack Date'].astype(str).str[:4]\n",
    "\n",
    "# group the new column by its values and count the number of occurrences of each value\n",
    "count_by_value = df.groupby('Attack Date').size().reset_index(name='count')\n",
    "\n",
    "# sort the resulting groupby object by the count of occurrences in descending order\n",
    "count_by_value = count_by_value.sort_values('count', ascending=False)\n",
    "\n",
    "# print the resulting table\n",
    "first_15_years = count_by_value.head(15)\n",
    "first_15_years.reset_index(drop=True)"
   ]
  },
  {
   "cell_type": "code",
   "execution_count": null,
   "id": "97bb2f9b",
   "metadata": {},
   "outputs": [],
   "source": []
  }
 ],
 "metadata": {
  "kernelspec": {
   "display_name": "Python 3 (ipykernel)",
   "language": "python",
   "name": "python3"
  },
  "language_info": {
   "codemirror_mode": {
    "name": "ipython",
    "version": 3
   },
   "file_extension": ".py",
   "mimetype": "text/x-python",
   "name": "python",
   "nbconvert_exporter": "python",
   "pygments_lexer": "ipython3",
   "version": "3.9.13"
  }
 },
 "nbformat": 4,
 "nbformat_minor": 5
}
