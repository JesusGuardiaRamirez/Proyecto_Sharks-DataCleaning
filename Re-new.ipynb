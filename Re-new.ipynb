{
 "cells": [
  {
   "cell_type": "code",
   "execution_count": 1,
   "id": "cdfd099e",
   "metadata": {},
   "outputs": [],
   "source": [
    "import pandas as pd\n",
    "import numpy as np\n",
    "import matplotlib as mpl\n",
    "import warnings\n",
    "warnings.filterwarnings('ignore')\n",
    "pd.set_option('display.max_columns', None)  # me muestre todas las columnas\n",
    "import re"
   ]
  },
  {
   "cell_type": "code",
   "execution_count": 2,
   "id": "bc40d41f",
   "metadata": {},
   "outputs": [
    {
     "data": {
      "text/html": [
       "<div>\n",
       "<style scoped>\n",
       "    .dataframe tbody tr th:only-of-type {\n",
       "        vertical-align: middle;\n",
       "    }\n",
       "\n",
       "    .dataframe tbody tr th {\n",
       "        vertical-align: top;\n",
       "    }\n",
       "\n",
       "    .dataframe thead th {\n",
       "        text-align: right;\n",
       "    }\n",
       "</style>\n",
       "<table border=\"1\" class=\"dataframe\">\n",
       "  <thead>\n",
       "    <tr style=\"text-align: right;\">\n",
       "      <th></th>\n",
       "      <th>Case Number</th>\n",
       "      <th>Date</th>\n",
       "      <th>Year</th>\n",
       "      <th>Type</th>\n",
       "      <th>Country</th>\n",
       "      <th>Area</th>\n",
       "      <th>Location</th>\n",
       "      <th>Activity</th>\n",
       "      <th>Name</th>\n",
       "      <th>Sex</th>\n",
       "      <th>Age</th>\n",
       "      <th>Injury</th>\n",
       "      <th>Fatal (Y/N)</th>\n",
       "      <th>Time</th>\n",
       "      <th>Species</th>\n",
       "      <th>Investigator or Source</th>\n",
       "      <th>pdf</th>\n",
       "      <th>href formula</th>\n",
       "      <th>href</th>\n",
       "      <th>Case Number.1</th>\n",
       "      <th>Case Number.2</th>\n",
       "      <th>original order</th>\n",
       "    </tr>\n",
       "  </thead>\n",
       "  <tbody>\n",
       "    <tr>\n",
       "      <th>0</th>\n",
       "      <td>2017.06.11</td>\n",
       "      <td>2017-06-11</td>\n",
       "      <td>2017.0</td>\n",
       "      <td>Unprovoked</td>\n",
       "      <td>AUSTRALIA</td>\n",
       "      <td>Western Australia</td>\n",
       "      <td>Point Casuarina, Bunbury</td>\n",
       "      <td>Body boarding</td>\n",
       "      <td>Paul Goff</td>\n",
       "      <td>M</td>\n",
       "      <td>48</td>\n",
       "      <td>No injury, board bitten</td>\n",
       "      <td>N</td>\n",
       "      <td>08h30</td>\n",
       "      <td>White shark, 4 m</td>\n",
       "      <td>WA Today, 6/11/2017</td>\n",
       "      <td>2017.06.11-Goff.pdf</td>\n",
       "      <td>http://sharkattackfile.net/spreadsheets/pdf_di...</td>\n",
       "      <td>http://sharkattackfile.net/spreadsheets/pdf_di...</td>\n",
       "      <td>2017.06.11</td>\n",
       "      <td>2017.06.11</td>\n",
       "      <td>6095.0</td>\n",
       "    </tr>\n",
       "    <tr>\n",
       "      <th>1</th>\n",
       "      <td>2017.06.10.b</td>\n",
       "      <td>2017-06-10</td>\n",
       "      <td>2017.0</td>\n",
       "      <td>Unprovoked</td>\n",
       "      <td>AUSTRALIA</td>\n",
       "      <td>Victoria</td>\n",
       "      <td>Flinders, Mornington Penisula</td>\n",
       "      <td>Surfing</td>\n",
       "      <td>female</td>\n",
       "      <td>F</td>\n",
       "      <td>NaN</td>\n",
       "      <td>No injury, knocke off board</td>\n",
       "      <td>N</td>\n",
       "      <td>15h45</td>\n",
       "      <td>7 gill shark</td>\n",
       "      <td>NaN</td>\n",
       "      <td>2017.06.10.b-Flinders.pdf</td>\n",
       "      <td>http://sharkattackfile.net/spreadsheets/pdf_di...</td>\n",
       "      <td>http://sharkattackfile.net/spreadsheets/pdf_di...</td>\n",
       "      <td>2017.06.10.b</td>\n",
       "      <td>2017.06.10.b</td>\n",
       "      <td>6094.0</td>\n",
       "    </tr>\n",
       "  </tbody>\n",
       "</table>\n",
       "</div>"
      ],
      "text/plain": [
       "    Case Number        Date    Year        Type    Country               Area  \\\n",
       "0    2017.06.11  2017-06-11  2017.0  Unprovoked  AUSTRALIA  Western Australia   \n",
       "1  2017.06.10.b  2017-06-10  2017.0  Unprovoked  AUSTRALIA           Victoria   \n",
       "\n",
       "                        Location       Activity       Name Sex   Age  \\\n",
       "0       Point Casuarina, Bunbury  Body boarding  Paul Goff    M   48   \n",
       "1  Flinders, Mornington Penisula        Surfing     female    F  NaN   \n",
       "\n",
       "                        Injury Fatal (Y/N)   Time          Species   \\\n",
       "0      No injury, board bitten           N  08h30  White shark, 4 m   \n",
       "1  No injury, knocke off board           N  15h45      7 gill shark   \n",
       "\n",
       "  Investigator or Source                        pdf  \\\n",
       "0    WA Today, 6/11/2017        2017.06.11-Goff.pdf   \n",
       "1                    NaN  2017.06.10.b-Flinders.pdf   \n",
       "\n",
       "                                        href formula  \\\n",
       "0  http://sharkattackfile.net/spreadsheets/pdf_di...   \n",
       "1  http://sharkattackfile.net/spreadsheets/pdf_di...   \n",
       "\n",
       "                                                href Case Number.1  \\\n",
       "0  http://sharkattackfile.net/spreadsheets/pdf_di...    2017.06.11   \n",
       "1  http://sharkattackfile.net/spreadsheets/pdf_di...  2017.06.10.b   \n",
       "\n",
       "  Case Number.2  original order  \n",
       "0    2017.06.11          6095.0  \n",
       "1  2017.06.10.b          6094.0  "
      ]
     },
     "execution_count": 2,
     "metadata": {},
     "output_type": "execute_result"
    }
   ],
   "source": [
    "# Descarga del DataFrame en archivo CSV. \n",
    "\n",
    "data_shark = pd.read_csv('/Users/JGR/IRON_HACK/Sharks/attacks.csv', encoding='UTF-8',encoding_errors='ignore')\n",
    "\n",
    "# Enseña la cabeza del DataFrame\n",
    "data_shark.head(2) "
   ]
  },
  {
   "cell_type": "code",
   "execution_count": 3,
   "id": "e4f5188a",
   "metadata": {},
   "outputs": [
    {
     "name": "stdout",
     "output_type": "stream",
     "text": [
      "<class 'pandas.core.frame.DataFrame'>\n",
      "RangeIndex: 25614 entries, 0 to 25613\n",
      "Data columns (total 22 columns):\n",
      " #   Column                  Non-Null Count  Dtype  \n",
      "---  ------                  --------------  -----  \n",
      " 0   Case Number             6095 non-null   object \n",
      " 1   Date                    6094 non-null   object \n",
      " 2   Year                    6092 non-null   float64\n",
      " 3   Type                    6090 non-null   object \n",
      " 4   Country                 6048 non-null   object \n",
      " 5   Area                    5682 non-null   object \n",
      " 6   Location                5583 non-null   object \n",
      " 7   Activity                5559 non-null   object \n",
      " 8   Name                    5888 non-null   object \n",
      " 9   Sex                     5517 non-null   object \n",
      " 10  Age                     3374 non-null   object \n",
      " 11  Injury                  6066 non-null   object \n",
      " 12  Fatal (Y/N)             6064 non-null   object \n",
      " 13  Time                    2848 non-null   object \n",
      " 14  Species                 3100 non-null   object \n",
      " 15  Investigator or Source  6077 non-null   object \n",
      " 16  pdf                     6094 non-null   object \n",
      " 17  href formula            6093 non-null   object \n",
      " 18  href                    6093 non-null   object \n",
      " 19  Case Number.1           6094 non-null   object \n",
      " 20  Case Number.2           6094 non-null   object \n",
      " 21  original order          6094 non-null   float64\n",
      "dtypes: float64(2), object(20)\n",
      "memory usage: 4.3+ MB\n"
     ]
    }
   ],
   "source": [
    "data_shark.info() # Vemos toda la informacion de la Data Frame"
   ]
  },
  {
   "cell_type": "code",
   "execution_count": 4,
   "id": "9bfeb9b5",
   "metadata": {},
   "outputs": [
    {
     "data": {
      "text/plain": [
       "Case Number               19519\n",
       "Date                      19520\n",
       "Year                      19522\n",
       "Type                      19524\n",
       "Country                   19566\n",
       "Area                      19932\n",
       "Location                  20031\n",
       "Activity                  20055\n",
       "Name                      19726\n",
       "Sex                       20097\n",
       "Age                       22240\n",
       "Injury                    19548\n",
       "Fatal (Y/N)               19550\n",
       "Time                      22766\n",
       "Species                   22514\n",
       "Investigator or Source    19537\n",
       "pdf                       19520\n",
       "href formula              19521\n",
       "href                      19521\n",
       "Case Number.1             19520\n",
       "Case Number.2             19520\n",
       "original order            19520\n",
       "dtype: int64"
      ]
     },
     "execution_count": 4,
     "metadata": {},
     "output_type": "execute_result"
    }
   ],
   "source": [
    "df = pd.DataFrame(data_shark)\n",
    "null_counts = df.isna().sum() \n",
    "null_counts[null_counts > 0]  "
   ]
  },
  {
   "cell_type": "code",
   "execution_count": 5,
   "id": "2cf89f76",
   "metadata": {},
   "outputs": [
    {
     "data": {
      "text/plain": [
       "((25614, 22),)"
      ]
     },
     "execution_count": 5,
     "metadata": {},
     "output_type": "execute_result"
    }
   ],
   "source": [
    "data_shark.shape, "
   ]
  },
  {
   "cell_type": "code",
   "execution_count": 6,
   "id": "837bf10d",
   "metadata": {},
   "outputs": [],
   "source": [
    "df = data_shark.drop_duplicates() "
   ]
  },
  {
   "cell_type": "code",
   "execution_count": 7,
   "id": "854fc3cb",
   "metadata": {},
   "outputs": [
    {
     "data": {
      "text/plain": [
       "(6097, 22)"
      ]
     },
     "execution_count": 7,
     "metadata": {},
     "output_type": "execute_result"
    }
   ],
   "source": [
    "df.shape"
   ]
  },
  {
   "cell_type": "code",
   "execution_count": 8,
   "id": "5dbeeb1b",
   "metadata": {},
   "outputs": [
    {
     "data": {
      "text/html": [
       "<div>\n",
       "<style scoped>\n",
       "    .dataframe tbody tr th:only-of-type {\n",
       "        vertical-align: middle;\n",
       "    }\n",
       "\n",
       "    .dataframe tbody tr th {\n",
       "        vertical-align: top;\n",
       "    }\n",
       "\n",
       "    .dataframe thead th {\n",
       "        text-align: right;\n",
       "    }\n",
       "</style>\n",
       "<table border=\"1\" class=\"dataframe\">\n",
       "  <thead>\n",
       "    <tr style=\"text-align: right;\">\n",
       "      <th></th>\n",
       "      <th>Case Number</th>\n",
       "      <th>Date</th>\n",
       "      <th>Year</th>\n",
       "      <th>Type</th>\n",
       "      <th>Country</th>\n",
       "      <th>Area</th>\n",
       "      <th>Location</th>\n",
       "      <th>Activity</th>\n",
       "      <th>Name</th>\n",
       "      <th>Sex</th>\n",
       "      <th>Age</th>\n",
       "      <th>Injury</th>\n",
       "      <th>Fatal (Y/N)</th>\n",
       "      <th>Time</th>\n",
       "      <th>Species</th>\n",
       "      <th>Investigator or Source</th>\n",
       "      <th>pdf</th>\n",
       "      <th>href formula</th>\n",
       "      <th>href</th>\n",
       "      <th>Case Number.1</th>\n",
       "      <th>Case Number.2</th>\n",
       "      <th>original order</th>\n",
       "    </tr>\n",
       "  </thead>\n",
       "  <tbody>\n",
       "    <tr>\n",
       "      <th>6101</th>\n",
       "      <td>0</td>\n",
       "      <td>0</td>\n",
       "      <td>0</td>\n",
       "      <td>0</td>\n",
       "      <td>0</td>\n",
       "      <td>0</td>\n",
       "      <td>0</td>\n",
       "      <td>0</td>\n",
       "      <td>0</td>\n",
       "      <td>0</td>\n",
       "      <td>0</td>\n",
       "      <td>0</td>\n",
       "      <td>0</td>\n",
       "      <td>0</td>\n",
       "      <td>N</td>\n",
       "      <td>0</td>\n",
       "      <td>0</td>\n",
       "      <td>0</td>\n",
       "      <td>0</td>\n",
       "      <td>0</td>\n",
       "      <td>0</td>\n",
       "      <td>0</td>\n",
       "    </tr>\n",
       "    <tr>\n",
       "      <th>25613</th>\n",
       "      <td>xx</td>\n",
       "      <td>0</td>\n",
       "      <td>0</td>\n",
       "      <td>0</td>\n",
       "      <td>0</td>\n",
       "      <td>0</td>\n",
       "      <td>0</td>\n",
       "      <td>0</td>\n",
       "      <td>0</td>\n",
       "      <td>0</td>\n",
       "      <td>0</td>\n",
       "      <td>0</td>\n",
       "      <td>0</td>\n",
       "      <td>0</td>\n",
       "      <td>0</td>\n",
       "      <td>0</td>\n",
       "      <td>0</td>\n",
       "      <td>0</td>\n",
       "      <td>0</td>\n",
       "      <td>0</td>\n",
       "      <td>0</td>\n",
       "      <td>0</td>\n",
       "    </tr>\n",
       "  </tbody>\n",
       "</table>\n",
       "</div>"
      ],
      "text/plain": [
       "      Case Number Date Year Type Country Area Location Activity Name Sex  Age  \\\n",
       "6101            0    0    0    0       0    0        0        0    0    0   0   \n",
       "25613          xx    0    0    0       0    0        0        0    0    0   0   \n",
       "\n",
       "      Injury Fatal (Y/N) Time Species  Investigator or Source pdf  \\\n",
       "6101       0           0    0        N                      0   0   \n",
       "25613      0           0    0        0                      0   0   \n",
       "\n",
       "      href formula href Case Number.1 Case Number.2 original order  \n",
       "6101             0    0             0             0              0  \n",
       "25613            0    0             0             0              0  "
      ]
     },
     "execution_count": 8,
     "metadata": {},
     "output_type": "execute_result"
    }
   ],
   "source": [
    "df = df.fillna('0') # Rellenamos todos los valores nulos a \"unknown\"\n",
    "df.tail(2)"
   ]
  },
  {
   "cell_type": "code",
   "execution_count": 9,
   "id": "3ded98fe",
   "metadata": {},
   "outputs": [
    {
     "data": {
      "text/plain": [
       "(6097, 22)"
      ]
     },
     "execution_count": 9,
     "metadata": {},
     "output_type": "execute_result"
    }
   ],
   "source": [
    "df.shape"
   ]
  },
  {
   "cell_type": "code",
   "execution_count": 10,
   "id": "be7f5bc8",
   "metadata": {},
   "outputs": [
    {
     "data": {
      "text/plain": [
       "Index(['Case Number', 'Date', 'Year', 'Type', 'Country', 'Area', 'Location',\n",
       "       'Activity', 'Name', 'Sex ', 'Age', 'Injury', 'Fatal (Y/N)', 'Time',\n",
       "       'Species ', 'Investigator or Source', 'pdf', 'href formula', 'href',\n",
       "       'Case Number.1', 'Case Number.2', 'original order'],\n",
       "      dtype='object')"
      ]
     },
     "execution_count": 10,
     "metadata": {},
     "output_type": "execute_result"
    }
   ],
   "source": [
    "df.columns"
   ]
  },
  {
   "cell_type": "code",
   "execution_count": 11,
   "id": "ab52cf7d",
   "metadata": {},
   "outputs": [],
   "source": [
    "df = df.rename(columns={'Sex ': 'Sex'}) "
   ]
  },
  {
   "cell_type": "code",
   "execution_count": 12,
   "id": "966db465",
   "metadata": {},
   "outputs": [],
   "source": [
    "df = df.rename(columns={'Species ': 'Species'}) "
   ]
  },
  {
   "cell_type": "code",
   "execution_count": 13,
   "id": "733539f7",
   "metadata": {},
   "outputs": [
    {
     "data": {
      "text/plain": [
       "Index(['Case Number', 'Date', 'Year', 'Type', 'Country', 'Area', 'Location',\n",
       "       'Activity', 'Name', 'Sex', 'Age', 'Injury', 'Fatal (Y/N)', 'Time',\n",
       "       'Species', 'Investigator or Source', 'pdf', 'href formula', 'href',\n",
       "       'Case Number.1', 'Case Number.2', 'original order'],\n",
       "      dtype='object')"
      ]
     },
     "execution_count": 13,
     "metadata": {},
     "output_type": "execute_result"
    }
   ],
   "source": [
    "df.columns"
   ]
  },
  {
   "cell_type": "code",
   "execution_count": 14,
   "id": "c01351ba",
   "metadata": {},
   "outputs": [
    {
     "data": {
      "text/html": [
       "<div>\n",
       "<style scoped>\n",
       "    .dataframe tbody tr th:only-of-type {\n",
       "        vertical-align: middle;\n",
       "    }\n",
       "\n",
       "    .dataframe tbody tr th {\n",
       "        vertical-align: top;\n",
       "    }\n",
       "\n",
       "    .dataframe thead th {\n",
       "        text-align: right;\n",
       "    }\n",
       "</style>\n",
       "<table border=\"1\" class=\"dataframe\">\n",
       "  <thead>\n",
       "    <tr style=\"text-align: right;\">\n",
       "      <th></th>\n",
       "      <th>Case Number</th>\n",
       "      <th>Date</th>\n",
       "      <th>Year</th>\n",
       "      <th>Type</th>\n",
       "      <th>Country</th>\n",
       "      <th>Area</th>\n",
       "      <th>Location</th>\n",
       "      <th>Activity</th>\n",
       "      <th>Name</th>\n",
       "      <th>Sex</th>\n",
       "      <th>Age</th>\n",
       "      <th>Injury</th>\n",
       "      <th>Fatal (Y/N)</th>\n",
       "      <th>Time</th>\n",
       "      <th>Species</th>\n",
       "      <th>Investigator or Source</th>\n",
       "      <th>pdf</th>\n",
       "      <th>href formula</th>\n",
       "      <th>href</th>\n",
       "      <th>Case Number.1</th>\n",
       "      <th>Case Number.2</th>\n",
       "      <th>original order</th>\n",
       "    </tr>\n",
       "  </thead>\n",
       "  <tbody>\n",
       "    <tr>\n",
       "      <th>0</th>\n",
       "      <td>2017.06.11</td>\n",
       "      <td>2017-06-11</td>\n",
       "      <td>2017.0</td>\n",
       "      <td>Unprovoked</td>\n",
       "      <td>AUSTRALIA</td>\n",
       "      <td>Western Australia</td>\n",
       "      <td>Point Casuarina, Bunbury</td>\n",
       "      <td>Body boarding</td>\n",
       "      <td>Paul Goff</td>\n",
       "      <td>M</td>\n",
       "      <td>48</td>\n",
       "      <td>No injury, board bitten</td>\n",
       "      <td>N</td>\n",
       "      <td>08h30</td>\n",
       "      <td>White shark, 4 m</td>\n",
       "      <td>WA Today, 6/11/2017</td>\n",
       "      <td>20170611</td>\n",
       "      <td>http://sharkattackfile.net/spreadsheets/pdf_di...</td>\n",
       "      <td>http://sharkattackfile.net/spreadsheets/pdf_di...</td>\n",
       "      <td>2017.06.11</td>\n",
       "      <td>2017.06.11</td>\n",
       "      <td>6095.0</td>\n",
       "    </tr>\n",
       "    <tr>\n",
       "      <th>1</th>\n",
       "      <td>2017.06.10.b</td>\n",
       "      <td>2017-06-10</td>\n",
       "      <td>2017.0</td>\n",
       "      <td>Unprovoked</td>\n",
       "      <td>AUSTRALIA</td>\n",
       "      <td>Victoria</td>\n",
       "      <td>Flinders, Mornington Penisula</td>\n",
       "      <td>Surfing</td>\n",
       "      <td>female</td>\n",
       "      <td>F</td>\n",
       "      <td>0</td>\n",
       "      <td>No injury, knocke off board</td>\n",
       "      <td>N</td>\n",
       "      <td>15h45</td>\n",
       "      <td>7 gill shark</td>\n",
       "      <td>0</td>\n",
       "      <td>20170610</td>\n",
       "      <td>http://sharkattackfile.net/spreadsheets/pdf_di...</td>\n",
       "      <td>http://sharkattackfile.net/spreadsheets/pdf_di...</td>\n",
       "      <td>2017.06.10.b</td>\n",
       "      <td>2017.06.10.b</td>\n",
       "      <td>6094.0</td>\n",
       "    </tr>\n",
       "    <tr>\n",
       "      <th>2</th>\n",
       "      <td>2017.06.10.a</td>\n",
       "      <td>2017-06-10</td>\n",
       "      <td>2017.0</td>\n",
       "      <td>Unprovoked</td>\n",
       "      <td>USA</td>\n",
       "      <td>Florida</td>\n",
       "      <td>Ponce Inlet, Volusia County</td>\n",
       "      <td>Surfing</td>\n",
       "      <td>Bryan Brock</td>\n",
       "      <td>M</td>\n",
       "      <td>19</td>\n",
       "      <td>Laceration to left foot</td>\n",
       "      <td>N</td>\n",
       "      <td>10h00</td>\n",
       "      <td>0</td>\n",
       "      <td>Daytona Beach News-Journal, 6/10/2017</td>\n",
       "      <td>20170610</td>\n",
       "      <td>http://sharkattackfile.net/spreadsheets/pdf_di...</td>\n",
       "      <td>http://sharkattackfile.net/spreadsheets/pdf_di...</td>\n",
       "      <td>2017.06.10.a</td>\n",
       "      <td>2017.06.10.a</td>\n",
       "      <td>6093.0</td>\n",
       "    </tr>\n",
       "    <tr>\n",
       "      <th>3</th>\n",
       "      <td>2017.06.07.R</td>\n",
       "      <td>Reported 07-Jun-2017</td>\n",
       "      <td>2017.0</td>\n",
       "      <td>Unprovoked</td>\n",
       "      <td>UNITED KINGDOM</td>\n",
       "      <td>South Devon</td>\n",
       "      <td>Bantham Beach</td>\n",
       "      <td>Surfing</td>\n",
       "      <td>Rich Thomson</td>\n",
       "      <td>M</td>\n",
       "      <td>30</td>\n",
       "      <td>Bruise to leg, cuts to hand sustained when he ...</td>\n",
       "      <td>N</td>\n",
       "      <td>0</td>\n",
       "      <td>3m shark, probably a smooth hound</td>\n",
       "      <td>C. Moore, GSAF</td>\n",
       "      <td>20170607</td>\n",
       "      <td>http://sharkattackfile.net/spreadsheets/pdf_di...</td>\n",
       "      <td>http://sharkattackfile.net/spreadsheets/pdf_di...</td>\n",
       "      <td>2017.06.07.R</td>\n",
       "      <td>2017.06.07.R</td>\n",
       "      <td>6092.0</td>\n",
       "    </tr>\n",
       "    <tr>\n",
       "      <th>4</th>\n",
       "      <td>2017.06.04</td>\n",
       "      <td>2017-06-04</td>\n",
       "      <td>2017.0</td>\n",
       "      <td>Unprovoked</td>\n",
       "      <td>USA</td>\n",
       "      <td>Florida</td>\n",
       "      <td>Middle Sambo Reef off Boca Chica, Monroe County</td>\n",
       "      <td>Spearfishing</td>\n",
       "      <td>Parker Simpson</td>\n",
       "      <td>M</td>\n",
       "      <td>0</td>\n",
       "      <td>Laceration to shin</td>\n",
       "      <td>N</td>\n",
       "      <td>0</td>\n",
       "      <td>8' shark</td>\n",
       "      <td>Nine News, 6/7/2017</td>\n",
       "      <td>20170604</td>\n",
       "      <td>http://sharkattackfile.net/spreadsheets/pdf_di...</td>\n",
       "      <td>http://sharkattackfile.net/spreadsheets/pdf_di...</td>\n",
       "      <td>2017.06.04</td>\n",
       "      <td>2017.06.04</td>\n",
       "      <td>6091.0</td>\n",
       "    </tr>\n",
       "    <tr>\n",
       "      <th>...</th>\n",
       "      <td>...</td>\n",
       "      <td>...</td>\n",
       "      <td>...</td>\n",
       "      <td>...</td>\n",
       "      <td>...</td>\n",
       "      <td>...</td>\n",
       "      <td>...</td>\n",
       "      <td>...</td>\n",
       "      <td>...</td>\n",
       "      <td>...</td>\n",
       "      <td>...</td>\n",
       "      <td>...</td>\n",
       "      <td>...</td>\n",
       "      <td>...</td>\n",
       "      <td>...</td>\n",
       "      <td>...</td>\n",
       "      <td>...</td>\n",
       "      <td>...</td>\n",
       "      <td>...</td>\n",
       "      <td>...</td>\n",
       "      <td>...</td>\n",
       "      <td>...</td>\n",
       "    </tr>\n",
       "    <tr>\n",
       "      <th>6092</th>\n",
       "      <td>ND.0002</td>\n",
       "      <td>1883-1889</td>\n",
       "      <td>0.0</td>\n",
       "      <td>Unprovoked</td>\n",
       "      <td>PANAMA</td>\n",
       "      <td>0</td>\n",
       "      <td>Panama Bay 8N, 79W</td>\n",
       "      <td>0</td>\n",
       "      <td>Jules Patterson</td>\n",
       "      <td>M</td>\n",
       "      <td>0</td>\n",
       "      <td>FATAL</td>\n",
       "      <td>Y</td>\n",
       "      <td>0</td>\n",
       "      <td>0</td>\n",
       "      <td>The Sun, 10/20/1938</td>\n",
       "      <td>0002</td>\n",
       "      <td>http://sharkattackfile.net/spreadsheets/pdf_di...</td>\n",
       "      <td>http://sharkattackfile.net/spreadsheets/pdf_di...</td>\n",
       "      <td>ND.0002</td>\n",
       "      <td>ND.0002</td>\n",
       "      <td>3.0</td>\n",
       "    </tr>\n",
       "    <tr>\n",
       "      <th>6093</th>\n",
       "      <td>ND.0001</td>\n",
       "      <td>1845-1853</td>\n",
       "      <td>0.0</td>\n",
       "      <td>Unprovoked</td>\n",
       "      <td>CEYLON (SRI LANKA)</td>\n",
       "      <td>Eastern Province</td>\n",
       "      <td>Below the English fort, Trincomalee</td>\n",
       "      <td>Swimming</td>\n",
       "      <td>male</td>\n",
       "      <td>M</td>\n",
       "      <td>15</td>\n",
       "      <td>FATAL. \"Shark bit him in half, carrying away t...</td>\n",
       "      <td>Y</td>\n",
       "      <td>0</td>\n",
       "      <td>0</td>\n",
       "      <td>S.W. Baker</td>\n",
       "      <td>0001</td>\n",
       "      <td>http://sharkattackfile.net/spreadsheets/pdf_di...</td>\n",
       "      <td>http://sharkattackfile.net/spreadsheets/pdf_di...</td>\n",
       "      <td>ND.0001</td>\n",
       "      <td>ND.0001</td>\n",
       "      <td>2.0</td>\n",
       "    </tr>\n",
       "    <tr>\n",
       "      <th>6094</th>\n",
       "      <td>0</td>\n",
       "      <td>0</td>\n",
       "      <td>0</td>\n",
       "      <td>0</td>\n",
       "      <td>0</td>\n",
       "      <td>0</td>\n",
       "      <td>0</td>\n",
       "      <td>0</td>\n",
       "      <td>0</td>\n",
       "      <td>0</td>\n",
       "      <td>0</td>\n",
       "      <td>0</td>\n",
       "      <td>0</td>\n",
       "      <td>0</td>\n",
       "      <td>0</td>\n",
       "      <td>0</td>\n",
       "      <td>0</td>\n",
       "      <td>0</td>\n",
       "      <td>0</td>\n",
       "      <td>0</td>\n",
       "      <td>0</td>\n",
       "      <td>0</td>\n",
       "    </tr>\n",
       "    <tr>\n",
       "      <th>6101</th>\n",
       "      <td>0</td>\n",
       "      <td>0</td>\n",
       "      <td>0</td>\n",
       "      <td>0</td>\n",
       "      <td>0</td>\n",
       "      <td>0</td>\n",
       "      <td>0</td>\n",
       "      <td>0</td>\n",
       "      <td>0</td>\n",
       "      <td>0</td>\n",
       "      <td>0</td>\n",
       "      <td>0</td>\n",
       "      <td>0</td>\n",
       "      <td>0</td>\n",
       "      <td>N</td>\n",
       "      <td>0</td>\n",
       "      <td>0</td>\n",
       "      <td>0</td>\n",
       "      <td>0</td>\n",
       "      <td>0</td>\n",
       "      <td>0</td>\n",
       "      <td>0</td>\n",
       "    </tr>\n",
       "    <tr>\n",
       "      <th>25613</th>\n",
       "      <td>xx</td>\n",
       "      <td>0</td>\n",
       "      <td>0</td>\n",
       "      <td>0</td>\n",
       "      <td>0</td>\n",
       "      <td>0</td>\n",
       "      <td>0</td>\n",
       "      <td>0</td>\n",
       "      <td>0</td>\n",
       "      <td>0</td>\n",
       "      <td>0</td>\n",
       "      <td>0</td>\n",
       "      <td>0</td>\n",
       "      <td>0</td>\n",
       "      <td>0</td>\n",
       "      <td>0</td>\n",
       "      <td>0</td>\n",
       "      <td>0</td>\n",
       "      <td>0</td>\n",
       "      <td>0</td>\n",
       "      <td>0</td>\n",
       "      <td>0</td>\n",
       "    </tr>\n",
       "  </tbody>\n",
       "</table>\n",
       "<p>6097 rows × 22 columns</p>\n",
       "</div>"
      ],
      "text/plain": [
       "        Case Number                  Date    Year        Type  \\\n",
       "0        2017.06.11            2017-06-11  2017.0  Unprovoked   \n",
       "1      2017.06.10.b            2017-06-10  2017.0  Unprovoked   \n",
       "2      2017.06.10.a            2017-06-10  2017.0  Unprovoked   \n",
       "3      2017.06.07.R  Reported 07-Jun-2017  2017.0  Unprovoked   \n",
       "4        2017.06.04            2017-06-04  2017.0  Unprovoked   \n",
       "...             ...                   ...     ...         ...   \n",
       "6092        ND.0002             1883-1889     0.0  Unprovoked   \n",
       "6093        ND.0001             1845-1853     0.0  Unprovoked   \n",
       "6094              0                     0       0           0   \n",
       "6101              0                     0       0           0   \n",
       "25613            xx                     0       0           0   \n",
       "\n",
       "                  Country               Area  \\\n",
       "0               AUSTRALIA  Western Australia   \n",
       "1               AUSTRALIA           Victoria   \n",
       "2                     USA            Florida   \n",
       "3          UNITED KINGDOM        South Devon   \n",
       "4                     USA            Florida   \n",
       "...                   ...                ...   \n",
       "6092               PANAMA                  0   \n",
       "6093   CEYLON (SRI LANKA)   Eastern Province   \n",
       "6094                    0                  0   \n",
       "6101                    0                  0   \n",
       "25613                   0                  0   \n",
       "\n",
       "                                              Location       Activity  \\\n",
       "0                             Point Casuarina, Bunbury  Body boarding   \n",
       "1                        Flinders, Mornington Penisula        Surfing   \n",
       "2                          Ponce Inlet, Volusia County        Surfing   \n",
       "3                                        Bantham Beach       Surfing    \n",
       "4      Middle Sambo Reef off Boca Chica, Monroe County   Spearfishing   \n",
       "...                                                ...            ...   \n",
       "6092                                Panama Bay 8N, 79W              0   \n",
       "6093               Below the English fort, Trincomalee       Swimming   \n",
       "6094                                                 0              0   \n",
       "6101                                                 0              0   \n",
       "25613                                                0              0   \n",
       "\n",
       "                  Name Sex Age  \\\n",
       "0            Paul Goff   M  48   \n",
       "1               female   F   0   \n",
       "2          Bryan Brock   M  19   \n",
       "3         Rich Thomson   M  30   \n",
       "4       Parker Simpson   M   0   \n",
       "...                ...  ..  ..   \n",
       "6092   Jules Patterson   M   0   \n",
       "6093              male   M  15   \n",
       "6094                 0   0   0   \n",
       "6101                 0   0   0   \n",
       "25613                0   0   0   \n",
       "\n",
       "                                                  Injury Fatal (Y/N)   Time  \\\n",
       "0                                No injury, board bitten           N  08h30   \n",
       "1                            No injury, knocke off board           N  15h45   \n",
       "2                                Laceration to left foot           N  10h00   \n",
       "3      Bruise to leg, cuts to hand sustained when he ...           N      0   \n",
       "4                                     Laceration to shin           N      0   \n",
       "...                                                  ...         ...    ...   \n",
       "6092                                               FATAL           Y      0   \n",
       "6093   FATAL. \"Shark bit him in half, carrying away t...           Y      0   \n",
       "6094                                                   0           0      0   \n",
       "6101                                                   0           0      0   \n",
       "25613                                                  0           0      0   \n",
       "\n",
       "                                 Species  \\\n",
       "0                       White shark, 4 m   \n",
       "1                           7 gill shark   \n",
       "2                                      0   \n",
       "3      3m shark, probably a smooth hound   \n",
       "4                               8' shark   \n",
       "...                                  ...   \n",
       "6092                                   0   \n",
       "6093                                   0   \n",
       "6094                                   0   \n",
       "6101                                   N   \n",
       "25613                                  0   \n",
       "\n",
       "                      Investigator or Source       pdf  \\\n",
       "0                        WA Today, 6/11/2017  20170611   \n",
       "1                                          0  20170610   \n",
       "2      Daytona Beach News-Journal, 6/10/2017  20170610   \n",
       "3                             C. Moore, GSAF  20170607   \n",
       "4                        Nine News, 6/7/2017  20170604   \n",
       "...                                      ...       ...   \n",
       "6092                     The Sun, 10/20/1938      0002   \n",
       "6093                              S.W. Baker      0001   \n",
       "6094                                       0         0   \n",
       "6101                                       0         0   \n",
       "25613                                      0         0   \n",
       "\n",
       "                                            href formula  \\\n",
       "0      http://sharkattackfile.net/spreadsheets/pdf_di...   \n",
       "1      http://sharkattackfile.net/spreadsheets/pdf_di...   \n",
       "2      http://sharkattackfile.net/spreadsheets/pdf_di...   \n",
       "3      http://sharkattackfile.net/spreadsheets/pdf_di...   \n",
       "4      http://sharkattackfile.net/spreadsheets/pdf_di...   \n",
       "...                                                  ...   \n",
       "6092   http://sharkattackfile.net/spreadsheets/pdf_di...   \n",
       "6093   http://sharkattackfile.net/spreadsheets/pdf_di...   \n",
       "6094                                                   0   \n",
       "6101                                                   0   \n",
       "25613                                                  0   \n",
       "\n",
       "                                                    href Case Number.1  \\\n",
       "0      http://sharkattackfile.net/spreadsheets/pdf_di...    2017.06.11   \n",
       "1      http://sharkattackfile.net/spreadsheets/pdf_di...  2017.06.10.b   \n",
       "2      http://sharkattackfile.net/spreadsheets/pdf_di...  2017.06.10.a   \n",
       "3      http://sharkattackfile.net/spreadsheets/pdf_di...  2017.06.07.R   \n",
       "4      http://sharkattackfile.net/spreadsheets/pdf_di...    2017.06.04   \n",
       "...                                                  ...           ...   \n",
       "6092   http://sharkattackfile.net/spreadsheets/pdf_di...       ND.0002   \n",
       "6093   http://sharkattackfile.net/spreadsheets/pdf_di...       ND.0001   \n",
       "6094                                                   0             0   \n",
       "6101                                                   0             0   \n",
       "25613                                                  0             0   \n",
       "\n",
       "      Case Number.2 original order  \n",
       "0        2017.06.11         6095.0  \n",
       "1      2017.06.10.b         6094.0  \n",
       "2      2017.06.10.a         6093.0  \n",
       "3      2017.06.07.R         6092.0  \n",
       "4        2017.06.04         6091.0  \n",
       "...             ...            ...  \n",
       "6092        ND.0002            3.0  \n",
       "6093        ND.0001            2.0  \n",
       "6094              0              0  \n",
       "6101              0              0  \n",
       "25613             0              0  \n",
       "\n",
       "[6097 rows x 22 columns]"
      ]
     },
     "execution_count": 14,
     "metadata": {},
     "output_type": "execute_result"
    }
   ],
   "source": [
    "df['pdf'] = df['pdf'].str.replace('\\D', '') # Quitamos todo lo que no sea numerico de la lista\n",
    "df"
   ]
  },
  {
   "cell_type": "code",
   "execution_count": 15,
   "id": "6a77c7c9",
   "metadata": {},
   "outputs": [
    {
     "data": {
      "text/plain": [
       "(6097, 22)"
      ]
     },
     "execution_count": 15,
     "metadata": {},
     "output_type": "execute_result"
    }
   ],
   "source": [
    "df.shape"
   ]
  },
  {
   "cell_type": "code",
   "execution_count": 16,
   "id": "eae42b05",
   "metadata": {},
   "outputs": [],
   "source": [
    "df = df.rename(columns={'Case Number.1': 'Attack Date'})"
   ]
  },
  {
   "cell_type": "code",
   "execution_count": 17,
   "id": "a287c1bf",
   "metadata": {},
   "outputs": [],
   "source": [
    "df['Case Number.2'] = 0 # Limpieza de datos que me son irrelevantes"
   ]
  },
  {
   "cell_type": "code",
   "execution_count": 18,
   "id": "fd491c93",
   "metadata": {},
   "outputs": [],
   "source": [
    "df['original order'] = 0  # Limpieza de datos que me son irrelevantes"
   ]
  },
  {
   "cell_type": "code",
   "execution_count": 19,
   "id": "d54ca1ce",
   "metadata": {},
   "outputs": [],
   "source": [
    "df['href formula'] = 0  # Limpieza de datos que me son irrelevantes"
   ]
  },
  {
   "cell_type": "code",
   "execution_count": 20,
   "id": "85a8cd4f",
   "metadata": {},
   "outputs": [],
   "source": [
    "df['href'] = 0  # Limpieza de datos que me son irrelevantes"
   ]
  },
  {
   "cell_type": "code",
   "execution_count": 21,
   "id": "dcfde3f8",
   "metadata": {},
   "outputs": [
    {
     "data": {
      "text/html": [
       "<div>\n",
       "<style scoped>\n",
       "    .dataframe tbody tr th:only-of-type {\n",
       "        vertical-align: middle;\n",
       "    }\n",
       "\n",
       "    .dataframe tbody tr th {\n",
       "        vertical-align: top;\n",
       "    }\n",
       "\n",
       "    .dataframe thead th {\n",
       "        text-align: right;\n",
       "    }\n",
       "</style>\n",
       "<table border=\"1\" class=\"dataframe\">\n",
       "  <thead>\n",
       "    <tr style=\"text-align: right;\">\n",
       "      <th></th>\n",
       "      <th>Case Number</th>\n",
       "      <th>Date</th>\n",
       "      <th>Year</th>\n",
       "      <th>Type</th>\n",
       "      <th>Country</th>\n",
       "      <th>Area</th>\n",
       "      <th>Location</th>\n",
       "      <th>Activity</th>\n",
       "      <th>Name</th>\n",
       "      <th>Sex</th>\n",
       "      <th>Age</th>\n",
       "      <th>Injury</th>\n",
       "      <th>Fatal (Y/N)</th>\n",
       "      <th>Time</th>\n",
       "      <th>Species</th>\n",
       "      <th>Investigator or Source</th>\n",
       "      <th>pdf</th>\n",
       "      <th>href formula</th>\n",
       "      <th>href</th>\n",
       "      <th>Attack Date</th>\n",
       "      <th>Case Number.2</th>\n",
       "      <th>original order</th>\n",
       "    </tr>\n",
       "  </thead>\n",
       "  <tbody>\n",
       "    <tr>\n",
       "      <th>0</th>\n",
       "      <td>2017.06.11</td>\n",
       "      <td>2017-06-11</td>\n",
       "      <td>2017.0</td>\n",
       "      <td>Unprovoked</td>\n",
       "      <td>AUSTRALIA</td>\n",
       "      <td>Western Australia</td>\n",
       "      <td>Point Casuarina, Bunbury</td>\n",
       "      <td>Body boarding</td>\n",
       "      <td>Paul Goff</td>\n",
       "      <td>M</td>\n",
       "      <td>48</td>\n",
       "      <td>No injury, board bitten</td>\n",
       "      <td>N</td>\n",
       "      <td>08h30</td>\n",
       "      <td>White shark, 4 m</td>\n",
       "      <td>WA Today, 6/11/2017</td>\n",
       "      <td>20170611</td>\n",
       "      <td>0</td>\n",
       "      <td>0</td>\n",
       "      <td>2017.06.11</td>\n",
       "      <td>0</td>\n",
       "      <td>0</td>\n",
       "    </tr>\n",
       "    <tr>\n",
       "      <th>1</th>\n",
       "      <td>2017.06.10.b</td>\n",
       "      <td>2017-06-10</td>\n",
       "      <td>2017.0</td>\n",
       "      <td>Unprovoked</td>\n",
       "      <td>AUSTRALIA</td>\n",
       "      <td>Victoria</td>\n",
       "      <td>Flinders, Mornington Penisula</td>\n",
       "      <td>Surfing</td>\n",
       "      <td>female</td>\n",
       "      <td>F</td>\n",
       "      <td>0</td>\n",
       "      <td>No injury, knocke off board</td>\n",
       "      <td>N</td>\n",
       "      <td>15h45</td>\n",
       "      <td>7 gill shark</td>\n",
       "      <td>0</td>\n",
       "      <td>20170610</td>\n",
       "      <td>0</td>\n",
       "      <td>0</td>\n",
       "      <td>2017.06.10.b</td>\n",
       "      <td>0</td>\n",
       "      <td>0</td>\n",
       "    </tr>\n",
       "    <tr>\n",
       "      <th>2</th>\n",
       "      <td>2017.06.10.a</td>\n",
       "      <td>2017-06-10</td>\n",
       "      <td>2017.0</td>\n",
       "      <td>Unprovoked</td>\n",
       "      <td>USA</td>\n",
       "      <td>Florida</td>\n",
       "      <td>Ponce Inlet, Volusia County</td>\n",
       "      <td>Surfing</td>\n",
       "      <td>Bryan Brock</td>\n",
       "      <td>M</td>\n",
       "      <td>19</td>\n",
       "      <td>Laceration to left foot</td>\n",
       "      <td>N</td>\n",
       "      <td>10h00</td>\n",
       "      <td>0</td>\n",
       "      <td>Daytona Beach News-Journal, 6/10/2017</td>\n",
       "      <td>20170610</td>\n",
       "      <td>0</td>\n",
       "      <td>0</td>\n",
       "      <td>2017.06.10.a</td>\n",
       "      <td>0</td>\n",
       "      <td>0</td>\n",
       "    </tr>\n",
       "  </tbody>\n",
       "</table>\n",
       "</div>"
      ],
      "text/plain": [
       "    Case Number        Date    Year        Type    Country               Area  \\\n",
       "0    2017.06.11  2017-06-11  2017.0  Unprovoked  AUSTRALIA  Western Australia   \n",
       "1  2017.06.10.b  2017-06-10  2017.0  Unprovoked  AUSTRALIA           Victoria   \n",
       "2  2017.06.10.a  2017-06-10  2017.0  Unprovoked        USA            Florida   \n",
       "\n",
       "                        Location       Activity         Name Sex Age  \\\n",
       "0       Point Casuarina, Bunbury  Body boarding    Paul Goff   M  48   \n",
       "1  Flinders, Mornington Penisula        Surfing       female   F   0   \n",
       "2    Ponce Inlet, Volusia County        Surfing  Bryan Brock   M  19   \n",
       "\n",
       "                        Injury Fatal (Y/N)   Time           Species  \\\n",
       "0      No injury, board bitten           N  08h30  White shark, 4 m   \n",
       "1  No injury, knocke off board           N  15h45      7 gill shark   \n",
       "2      Laceration to left foot           N  10h00                 0   \n",
       "\n",
       "                  Investigator or Source       pdf  href formula  href  \\\n",
       "0                    WA Today, 6/11/2017  20170611             0     0   \n",
       "1                                      0  20170610             0     0   \n",
       "2  Daytona Beach News-Journal, 6/10/2017  20170610             0     0   \n",
       "\n",
       "    Attack Date  Case Number.2  original order  \n",
       "0    2017.06.11              0               0  \n",
       "1  2017.06.10.b              0               0  \n",
       "2  2017.06.10.a              0               0  "
      ]
     },
     "execution_count": 21,
     "metadata": {},
     "output_type": "execute_result"
    }
   ],
   "source": [
    "df.head(3)"
   ]
  },
  {
   "cell_type": "code",
   "execution_count": 22,
   "id": "308556c3",
   "metadata": {},
   "outputs": [],
   "source": [
    "# Porcentaje por Pais\n",
    "Country_counts = df['Country'].value_counts()\n",
    "Country_percentages = Country_counts / len(df) * 100\n",
    "Percentages = Country_percentages.head(5)"
   ]
  },
  {
   "cell_type": "code",
   "execution_count": 23,
   "id": "2f285b51",
   "metadata": {},
   "outputs": [
    {
     "data": {
      "text/plain": [
       "<AxesSubplot:>"
      ]
     },
     "execution_count": 23,
     "metadata": {},
     "output_type": "execute_result"
    },
    {
     "data": {
      "image/png": "[encoded data removed]",
      "text/plain": [
       "<Figure size 640x480 with 1 Axes>"
      ]
     },
     "metadata": {},
     "output_type": "display_data"
    }
   ],
   "source": [
    "Percentages.plot.barh()"
   ]
  },
  {
   "cell_type": "code",
   "execution_count": 24,
   "id": "fb802fef",
   "metadata": {},
   "outputs": [
    {
     "data": {
      "text/plain": [
       "(6097, 22)"
      ]
     },
     "execution_count": 24,
     "metadata": {},
     "output_type": "execute_result"
    }
   ],
   "source": [
    "df.shape"
   ]
  },
  {
   "cell_type": "code",
   "execution_count": 25,
   "id": "a2b69788",
   "metadata": {},
   "outputs": [],
   "source": [
    "# Porcentaje por Sexo\n",
    "Sex_counts = df['Sex'].value_counts()\n",
    "Sex_percentages = Sex_counts / len(df) * 100\n",
    "S_percentage = Sex_percentages.head(2)"
   ]
  },
  {
   "cell_type": "code",
   "execution_count": 26,
   "id": "8324cba0",
   "metadata": {},
   "outputs": [
    {
     "data": {
      "text/plain": [
       "M    80.465803\n",
       "F     9.939314\n",
       "Name: Sex, dtype: float64"
      ]
     },
     "execution_count": 26,
     "metadata": {},
     "output_type": "execute_result"
    }
   ],
   "source": [
    "S_percentage"
   ]
  },
  {
   "cell_type": "code",
   "execution_count": 27,
   "id": "aa651b03",
   "metadata": {},
   "outputs": [
    {
     "data": {
      "text/plain": [
       "<AxesSubplot:>"
      ]
     },
     "execution_count": 27,
     "metadata": {},
     "output_type": "execute_result"
    },
    {
     "data": {
      "image/png": "[encoded data removed]",
      "text/plain": [
       "<Figure size 640x480 with 1 Axes>"
      ]
     },
     "metadata": {},
     "output_type": "display_data"
    }
   ],
   "source": [
    "S_percentage.plot.barh()"
   ]
  },
  {
   "cell_type": "code",
   "execution_count": 28,
   "id": "ecee376f",
   "metadata": {},
   "outputs": [],
   "source": [
    "injuries = df['Injury'].value_counts()\n",
    "injurie = injuries.head(10)"
   ]
  },
  {
   "cell_type": "code",
   "execution_count": 29,
   "id": "52753cca",
   "metadata": {},
   "outputs": [
    {
     "data": {
      "text/plain": [
       "FATAL                      746\n",
       "Survived                    97\n",
       "Foot bitten                 83\n",
       "No injury                   79\n",
       "Leg bitten                  71\n",
       "Left foot bitten            49\n",
       "No details                  43\n",
       "Right foot bitten           39\n",
       "0                           31\n",
       "No injury, board bitten     30\n",
       "Name: Injury, dtype: int64"
      ]
     },
     "execution_count": 29,
     "metadata": {},
     "output_type": "execute_result"
    }
   ],
   "source": [
    "injurie"
   ]
  },
  {
   "cell_type": "code",
   "execution_count": 30,
   "id": "f15967ed",
   "metadata": {},
   "outputs": [
    {
     "data": {
      "text/plain": [
       "<AxesSubplot:>"
      ]
     },
     "execution_count": 30,
     "metadata": {},
     "output_type": "execute_result"
    },
    {
     "data": {
      "image/png": "[encoded data removed]",
      "text/plain": [
       "<Figure size 640x480 with 1 Axes>"
      ]
     },
     "metadata": {},
     "output_type": "display_data"
    }
   ],
   "source": [
    "injurie.plot.barh()"
   ]
  },
  {
   "cell_type": "code",
   "execution_count": 31,
   "id": "03949bbb",
   "metadata": {},
   "outputs": [
    {
     "data": {
      "text/plain": [
       "0            3249\n",
       "Afternoon     181\n",
       "11h00         126\n",
       "Morning       112\n",
       "12h00         108\n",
       "15h00         101\n",
       "16h00          98\n",
       "14h00          95\n",
       "16h30          73\n",
       "13h00          72\n",
       "Name: Time, dtype: int64"
      ]
     },
     "execution_count": 31,
     "metadata": {},
     "output_type": "execute_result"
    }
   ],
   "source": [
    "time = df['Time'].value_counts()\n",
    "time.head(10)"
   ]
  },
  {
   "cell_type": "code",
   "execution_count": 32,
   "id": "ef008adf",
   "metadata": {},
   "outputs": [
    {
     "data": {
      "text/plain": [
       "(6097, 22)"
      ]
     },
     "execution_count": 32,
     "metadata": {},
     "output_type": "execute_result"
    }
   ],
   "source": [
    "df.shape"
   ]
  },
  {
   "cell_type": "code",
   "execution_count": 33,
   "id": "abba532c",
   "metadata": {},
   "outputs": [
    {
     "data": {
      "text/plain": [
       "0                                  2997\n",
       "White shark                         164\n",
       "Shark involvement not confirmed      81\n",
       "Tiger shark                          73\n",
       "Bull shark                           53\n",
       "6' shark                             40\n",
       "4' shark                             39\n",
       "1.8 m [6'] shark                     35\n",
       "1.5 m [5'] shark                     32\n",
       "1.2 m [4'] shark                     27\n",
       "5' shark                             26\n",
       "3' shark                             26\n",
       "4' to 5' shark                       23\n",
       "3 m [10'] shark                      22\n",
       "2 m shark                            22\n",
       "No shark involvement                 21\n",
       "Wobbegong shark                      20\n",
       "3' to 4' shark                       18\n",
       "2.4 m [8'] shark                     16\n",
       "3 m shark                            16\n",
       "Name: Species, dtype: int64"
      ]
     },
     "execution_count": 33,
     "metadata": {},
     "output_type": "execute_result"
    }
   ],
   "source": [
    "sharks_species = df['Species'].value_counts()\n",
    "sharks_species.head(20)"
   ]
  },
  {
   "cell_type": "code",
   "execution_count": 34,
   "id": "ceeda628",
   "metadata": {},
   "outputs": [
    {
     "data": {
      "text/html": [
       "<div>\n",
       "<style scoped>\n",
       "    .dataframe tbody tr th:only-of-type {\n",
       "        vertical-align: middle;\n",
       "    }\n",
       "\n",
       "    .dataframe tbody tr th {\n",
       "        vertical-align: top;\n",
       "    }\n",
       "\n",
       "    .dataframe thead th {\n",
       "        text-align: right;\n",
       "    }\n",
       "</style>\n",
       "<table border=\"1\" class=\"dataframe\">\n",
       "  <thead>\n",
       "    <tr style=\"text-align: right;\">\n",
       "      <th></th>\n",
       "      <th>Case Number</th>\n",
       "      <th>Date</th>\n",
       "      <th>Year</th>\n",
       "      <th>Type</th>\n",
       "      <th>Country</th>\n",
       "      <th>Area</th>\n",
       "      <th>Location</th>\n",
       "      <th>Activity</th>\n",
       "      <th>Name</th>\n",
       "      <th>Sex</th>\n",
       "      <th>Age</th>\n",
       "      <th>Injury</th>\n",
       "      <th>Fatal (Y/N)</th>\n",
       "      <th>Time</th>\n",
       "      <th>Species</th>\n",
       "      <th>Investigator or Source</th>\n",
       "      <th>pdf</th>\n",
       "      <th>href formula</th>\n",
       "      <th>href</th>\n",
       "      <th>Attack Date</th>\n",
       "      <th>Case Number.2</th>\n",
       "      <th>original order</th>\n",
       "    </tr>\n",
       "  </thead>\n",
       "  <tbody>\n",
       "    <tr>\n",
       "      <th>0</th>\n",
       "      <td>2017.06.11</td>\n",
       "      <td>2017-06-11</td>\n",
       "      <td>2017.0</td>\n",
       "      <td>Unprovoked</td>\n",
       "      <td>AUSTRALIA</td>\n",
       "      <td>Western Australia</td>\n",
       "      <td>Point Casuarina, Bunbury</td>\n",
       "      <td>Body boarding</td>\n",
       "      <td>Paul Goff</td>\n",
       "      <td>M</td>\n",
       "      <td>48</td>\n",
       "      <td>No injury, board bitten</td>\n",
       "      <td>N</td>\n",
       "      <td>08h30</td>\n",
       "      <td>White shark, 4 m</td>\n",
       "      <td>WA Today, 6/11/2017</td>\n",
       "      <td>20170611</td>\n",
       "      <td>0</td>\n",
       "      <td>0</td>\n",
       "      <td>2017.06.11</td>\n",
       "      <td>0</td>\n",
       "      <td>0</td>\n",
       "    </tr>\n",
       "    <tr>\n",
       "      <th>1</th>\n",
       "      <td>2017.06.10.b</td>\n",
       "      <td>2017-06-10</td>\n",
       "      <td>2017.0</td>\n",
       "      <td>Unprovoked</td>\n",
       "      <td>AUSTRALIA</td>\n",
       "      <td>Victoria</td>\n",
       "      <td>Flinders, Mornington Penisula</td>\n",
       "      <td>Surfing</td>\n",
       "      <td>female</td>\n",
       "      <td>F</td>\n",
       "      <td>0</td>\n",
       "      <td>No injury, knocke off board</td>\n",
       "      <td>N</td>\n",
       "      <td>15h45</td>\n",
       "      <td>7 gill shark</td>\n",
       "      <td>0</td>\n",
       "      <td>20170610</td>\n",
       "      <td>0</td>\n",
       "      <td>0</td>\n",
       "      <td>2017.06.10.b</td>\n",
       "      <td>0</td>\n",
       "      <td>0</td>\n",
       "    </tr>\n",
       "    <tr>\n",
       "      <th>2</th>\n",
       "      <td>2017.06.10.a</td>\n",
       "      <td>2017-06-10</td>\n",
       "      <td>2017.0</td>\n",
       "      <td>Unprovoked</td>\n",
       "      <td>USA</td>\n",
       "      <td>Florida</td>\n",
       "      <td>Ponce Inlet, Volusia County</td>\n",
       "      <td>Surfing</td>\n",
       "      <td>Bryan Brock</td>\n",
       "      <td>M</td>\n",
       "      <td>19</td>\n",
       "      <td>Laceration to left foot</td>\n",
       "      <td>N</td>\n",
       "      <td>10h00</td>\n",
       "      <td>0</td>\n",
       "      <td>Daytona Beach News-Journal, 6/10/2017</td>\n",
       "      <td>20170610</td>\n",
       "      <td>0</td>\n",
       "      <td>0</td>\n",
       "      <td>2017.06.10.a</td>\n",
       "      <td>0</td>\n",
       "      <td>0</td>\n",
       "    </tr>\n",
       "  </tbody>\n",
       "</table>\n",
       "</div>"
      ],
      "text/plain": [
       "    Case Number        Date    Year        Type    Country               Area  \\\n",
       "0    2017.06.11  2017-06-11  2017.0  Unprovoked  AUSTRALIA  Western Australia   \n",
       "1  2017.06.10.b  2017-06-10  2017.0  Unprovoked  AUSTRALIA           Victoria   \n",
       "2  2017.06.10.a  2017-06-10  2017.0  Unprovoked        USA            Florida   \n",
       "\n",
       "                        Location       Activity         Name Sex Age  \\\n",
       "0       Point Casuarina, Bunbury  Body boarding    Paul Goff   M  48   \n",
       "1  Flinders, Mornington Penisula        Surfing       female   F   0   \n",
       "2    Ponce Inlet, Volusia County        Surfing  Bryan Brock   M  19   \n",
       "\n",
       "                        Injury Fatal (Y/N)   Time           Species  \\\n",
       "0      No injury, board bitten           N  08h30  White shark, 4 m   \n",
       "1  No injury, knocke off board           N  15h45      7 gill shark   \n",
       "2      Laceration to left foot           N  10h00                 0   \n",
       "\n",
       "                  Investigator or Source       pdf  href formula  href  \\\n",
       "0                    WA Today, 6/11/2017  20170611             0     0   \n",
       "1                                      0  20170610             0     0   \n",
       "2  Daytona Beach News-Journal, 6/10/2017  20170610             0     0   \n",
       "\n",
       "    Attack Date  Case Number.2  original order  \n",
       "0    2017.06.11              0               0  \n",
       "1  2017.06.10.b              0               0  \n",
       "2  2017.06.10.a              0               0  "
      ]
     },
     "execution_count": 34,
     "metadata": {},
     "output_type": "execute_result"
    }
   ],
   "source": [
    "df.head(3)"
   ]
  },
  {
   "cell_type": "code",
   "execution_count": 35,
   "id": "3e4febfc",
   "metadata": {},
   "outputs": [
    {
     "data": {
      "text/plain": [
       "0                 3\n",
       "1920.00.00.b      2\n",
       "1983.06.15        2\n",
       "1915.07.06.a.R    2\n",
       "2009.12.18        2\n",
       "Name: Attack Date, dtype: int64"
      ]
     },
     "execution_count": 35,
     "metadata": {},
     "output_type": "execute_result"
    }
   ],
   "source": [
    "Dates = df['Attack Date'].value_counts()\n",
    "Dates.head(5)"
   ]
  },
  {
   "cell_type": "code",
   "execution_count": 36,
   "id": "b24ae7e4",
   "metadata": {},
   "outputs": [],
   "source": [
    "df = df.rename(columns={\"Case Number.2\": \"Year\"})"
   ]
  },
  {
   "cell_type": "code",
   "execution_count": 37,
   "id": "eb6ebad3",
   "metadata": {},
   "outputs": [],
   "source": [
    "df = df.drop(\"original order\", axis=1)"
   ]
  },
  {
   "cell_type": "code",
   "execution_count": null,
   "id": "2a857202",
   "metadata": {},
   "outputs": [],
   "source": []
  },
  {
   "cell_type": "code",
   "execution_count": 38,
   "id": "553ecca4",
   "metadata": {},
   "outputs": [],
   "source": [
    "df[\"Attack Date\"] = df[\"Attack Date\"].str.slice(stop=10)"
   ]
  },
  {
   "cell_type": "code",
   "execution_count": 39,
   "id": "bcc2d1db",
   "metadata": {},
   "outputs": [],
   "source": [
    "df.loc[df[\"Attack Date\"].str.startswith(\"XD\"), \"Attack Date\"] = \"Unknown\" + df[\"Attack Date\"].str.slice(start=1)"
   ]
  },
  {
   "cell_type": "code",
   "execution_count": 40,
   "id": "2dc44412",
   "metadata": {},
   "outputs": [],
   "source": [
    "df[\"Year\"] = df[\"Attack Date\"].str.slice(stop=4)\n",
    "\n",
    "# Copiar los siguientes 2 dígitos de Attack Date a Month\n",
    "df[\"Month\"] = df[\"Attack Date\"].str.slice(start=5, stop=7)"
   ]
  },
  {
   "cell_type": "code",
   "execution_count": 41,
   "id": "1d6c665b",
   "metadata": {},
   "outputs": [
    {
     "data": {
      "text/html": [
       "<div>\n",
       "<style scoped>\n",
       "    .dataframe tbody tr th:only-of-type {\n",
       "        vertical-align: middle;\n",
       "    }\n",
       "\n",
       "    .dataframe tbody tr th {\n",
       "        vertical-align: top;\n",
       "    }\n",
       "\n",
       "    .dataframe thead th {\n",
       "        text-align: right;\n",
       "    }\n",
       "</style>\n",
       "<table border=\"1\" class=\"dataframe\">\n",
       "  <thead>\n",
       "    <tr style=\"text-align: right;\">\n",
       "      <th></th>\n",
       "      <th>Case Number</th>\n",
       "      <th>Date</th>\n",
       "      <th>Year</th>\n",
       "      <th>Type</th>\n",
       "      <th>Country</th>\n",
       "      <th>Area</th>\n",
       "      <th>Location</th>\n",
       "      <th>Activity</th>\n",
       "      <th>Name</th>\n",
       "      <th>Sex</th>\n",
       "      <th>Age</th>\n",
       "      <th>Injury</th>\n",
       "      <th>Fatal (Y/N)</th>\n",
       "      <th>Time</th>\n",
       "      <th>Species</th>\n",
       "      <th>Investigator or Source</th>\n",
       "      <th>pdf</th>\n",
       "      <th>href formula</th>\n",
       "      <th>href</th>\n",
       "      <th>Attack Date</th>\n",
       "      <th>Year</th>\n",
       "      <th>Month</th>\n",
       "    </tr>\n",
       "  </thead>\n",
       "  <tbody>\n",
       "    <tr>\n",
       "      <th>0</th>\n",
       "      <td>2017.06.11</td>\n",
       "      <td>2017-06-11</td>\n",
       "      <td>2017</td>\n",
       "      <td>Unprovoked</td>\n",
       "      <td>AUSTRALIA</td>\n",
       "      <td>Western Australia</td>\n",
       "      <td>Point Casuarina, Bunbury</td>\n",
       "      <td>Body boarding</td>\n",
       "      <td>Paul Goff</td>\n",
       "      <td>M</td>\n",
       "      <td>48</td>\n",
       "      <td>No injury, board bitten</td>\n",
       "      <td>N</td>\n",
       "      <td>08h30</td>\n",
       "      <td>White shark, 4 m</td>\n",
       "      <td>WA Today, 6/11/2017</td>\n",
       "      <td>20170611</td>\n",
       "      <td>0</td>\n",
       "      <td>0</td>\n",
       "      <td>2017.06.11</td>\n",
       "      <td>2017</td>\n",
       "      <td>06</td>\n",
       "    </tr>\n",
       "    <tr>\n",
       "      <th>1</th>\n",
       "      <td>2017.06.10.b</td>\n",
       "      <td>2017-06-10</td>\n",
       "      <td>2017</td>\n",
       "      <td>Unprovoked</td>\n",
       "      <td>AUSTRALIA</td>\n",
       "      <td>Victoria</td>\n",
       "      <td>Flinders, Mornington Penisula</td>\n",
       "      <td>Surfing</td>\n",
       "      <td>female</td>\n",
       "      <td>F</td>\n",
       "      <td>0</td>\n",
       "      <td>No injury, knocke off board</td>\n",
       "      <td>N</td>\n",
       "      <td>15h45</td>\n",
       "      <td>7 gill shark</td>\n",
       "      <td>0</td>\n",
       "      <td>20170610</td>\n",
       "      <td>0</td>\n",
       "      <td>0</td>\n",
       "      <td>2017.06.10</td>\n",
       "      <td>2017</td>\n",
       "      <td>06</td>\n",
       "    </tr>\n",
       "    <tr>\n",
       "      <th>2</th>\n",
       "      <td>2017.06.10.a</td>\n",
       "      <td>2017-06-10</td>\n",
       "      <td>2017</td>\n",
       "      <td>Unprovoked</td>\n",
       "      <td>USA</td>\n",
       "      <td>Florida</td>\n",
       "      <td>Ponce Inlet, Volusia County</td>\n",
       "      <td>Surfing</td>\n",
       "      <td>Bryan Brock</td>\n",
       "      <td>M</td>\n",
       "      <td>19</td>\n",
       "      <td>Laceration to left foot</td>\n",
       "      <td>N</td>\n",
       "      <td>10h00</td>\n",
       "      <td>0</td>\n",
       "      <td>Daytona Beach News-Journal, 6/10/2017</td>\n",
       "      <td>20170610</td>\n",
       "      <td>0</td>\n",
       "      <td>0</td>\n",
       "      <td>2017.06.10</td>\n",
       "      <td>2017</td>\n",
       "      <td>06</td>\n",
       "    </tr>\n",
       "    <tr>\n",
       "      <th>3</th>\n",
       "      <td>2017.06.07.R</td>\n",
       "      <td>Reported 07-Jun-2017</td>\n",
       "      <td>2017</td>\n",
       "      <td>Unprovoked</td>\n",
       "      <td>UNITED KINGDOM</td>\n",
       "      <td>South Devon</td>\n",
       "      <td>Bantham Beach</td>\n",
       "      <td>Surfing</td>\n",
       "      <td>Rich Thomson</td>\n",
       "      <td>M</td>\n",
       "      <td>30</td>\n",
       "      <td>Bruise to leg, cuts to hand sustained when he ...</td>\n",
       "      <td>N</td>\n",
       "      <td>0</td>\n",
       "      <td>3m shark, probably a smooth hound</td>\n",
       "      <td>C. Moore, GSAF</td>\n",
       "      <td>20170607</td>\n",
       "      <td>0</td>\n",
       "      <td>0</td>\n",
       "      <td>2017.06.07</td>\n",
       "      <td>2017</td>\n",
       "      <td>06</td>\n",
       "    </tr>\n",
       "  </tbody>\n",
       "</table>\n",
       "</div>"
      ],
      "text/plain": [
       "    Case Number                  Date  Year        Type         Country  \\\n",
       "0    2017.06.11            2017-06-11  2017  Unprovoked       AUSTRALIA   \n",
       "1  2017.06.10.b            2017-06-10  2017  Unprovoked       AUSTRALIA   \n",
       "2  2017.06.10.a            2017-06-10  2017  Unprovoked             USA   \n",
       "3  2017.06.07.R  Reported 07-Jun-2017  2017  Unprovoked  UNITED KINGDOM   \n",
       "\n",
       "                Area                       Location       Activity  \\\n",
       "0  Western Australia       Point Casuarina, Bunbury  Body boarding   \n",
       "1           Victoria  Flinders, Mornington Penisula        Surfing   \n",
       "2            Florida    Ponce Inlet, Volusia County        Surfing   \n",
       "3        South Devon                  Bantham Beach       Surfing    \n",
       "\n",
       "           Name Sex Age                                             Injury  \\\n",
       "0     Paul Goff   M  48                            No injury, board bitten   \n",
       "1        female   F   0                        No injury, knocke off board   \n",
       "2   Bryan Brock   M  19                            Laceration to left foot   \n",
       "3  Rich Thomson   M  30  Bruise to leg, cuts to hand sustained when he ...   \n",
       "\n",
       "  Fatal (Y/N)   Time                            Species  \\\n",
       "0           N  08h30                   White shark, 4 m   \n",
       "1           N  15h45                       7 gill shark   \n",
       "2           N  10h00                                  0   \n",
       "3           N      0  3m shark, probably a smooth hound   \n",
       "\n",
       "                  Investigator or Source       pdf  href formula  href  \\\n",
       "0                    WA Today, 6/11/2017  20170611             0     0   \n",
       "1                                      0  20170610             0     0   \n",
       "2  Daytona Beach News-Journal, 6/10/2017  20170610             0     0   \n",
       "3                         C. Moore, GSAF  20170607             0     0   \n",
       "\n",
       "  Attack Date  Year Month  \n",
       "0  2017.06.11  2017    06  \n",
       "1  2017.06.10  2017    06  \n",
       "2  2017.06.10  2017    06  \n",
       "3  2017.06.07  2017    06  "
      ]
     },
     "execution_count": 41,
     "metadata": {},
     "output_type": "execute_result"
    }
   ],
   "source": [
    "df.head(4)"
   ]
  },
  {
   "cell_type": "code",
   "execution_count": 42,
   "id": "17408b75",
   "metadata": {},
   "outputs": [
    {
     "data": {
      "text/plain": [
       "07    640\n",
       "08    586\n",
       "09    529\n",
       "01    512\n",
       "06    483\n",
       "04    436\n",
       "12    433\n",
       "10    423\n",
       "03    403\n",
       "00    399\n",
       "11    398\n",
       "05    378\n",
       "Name: Month, dtype: int64"
      ]
     },
     "execution_count": 42,
     "metadata": {},
     "output_type": "execute_result"
    }
   ],
   "source": [
    "month_report = df['Month'].value_counts()\n",
    "month_report.head(12)"
   ]
  },
  {
   "cell_type": "code",
   "execution_count": 43,
   "id": "1a4fe9ef",
   "metadata": {},
   "outputs": [],
   "source": [
    "for i in range(0, 13):\n",
    "    # Convertimos el número a string y le añadimos un cero a la izquierda si es menor que 10\n",
    "    str_num = str(i).zfill(2)\n",
    "    # Reemplazamos los valores de la columna que sean iguales a i por str_num\n",
    "    df['Month'] = df['Month'].replace(i, str_num)"
   ]
  },
  {
   "cell_type": "code",
   "execution_count": 47,
   "id": "aca7562c",
   "metadata": {},
   "outputs": [],
   "source": [
    "df['Year Season'] = df['Month']"
   ]
  },
  {
   "cell_type": "code",
   "execution_count": 52,
   "id": "e19bae9c",
   "metadata": {},
   "outputs": [],
   "source": [
    "def get_season(month):\n",
    "    if month in ['12', '01', '02']:\n",
    "        return 'Winter'\n",
    "    elif month in ['03', '04', '05']:\n",
    "        return 'Spring'\n",
    "    elif month in ['06', '07', '08']:\n",
    "        return 'Summer'\n",
    "    elif month in ['09', '10', '11']:\n",
    "        return 'Autumn'\n",
    "\n",
    "# Aplicar la función al DataFrame y crear una nueva columna llamada 'estacion'\n",
    "df['Year Season'] = df['Year Season'].apply(get_season)"
   ]
  },
  {
   "cell_type": "code",
   "execution_count": 57,
   "id": "ba16b0ab",
   "metadata": {},
   "outputs": [
    {
     "data": {
      "text/plain": [
       "Summer    1709\n",
       "Autumn    1350\n",
       "Winter    1316\n",
       "Spring    1217\n",
       "Name: Year Season, dtype: int64"
      ]
     },
     "execution_count": 57,
     "metadata": {},
     "output_type": "execute_result"
    }
   ],
   "source": [
    "seasons = df['Year Season'].value_counts()\n",
    "seasons"
   ]
  },
  {
   "cell_type": "code",
   "execution_count": 58,
   "id": "7fb2e51e",
   "metadata": {},
   "outputs": [
    {
     "data": {
      "text/plain": [
       "<AxesSubplot:>"
      ]
     },
     "execution_count": 58,
     "metadata": {},
     "output_type": "execute_result"
    },
    {
     "data": {
      "image/png": "[encoded data removed]",
      "text/plain": [
       "<Figure size 640x480 with 1 Axes>"
      ]
     },
     "metadata": {},
     "output_type": "display_data"
    }
   ],
   "source": [
    "seasons.plot.barh()"
   ]
  },
  {
   "cell_type": "code",
   "execution_count": 45,
   "id": "ed0a4d1d",
   "metadata": {},
   "outputs": [
    {
     "name": "stdout",
     "output_type": "stream",
     "text": [
      "Año: Year - Número de ataques: 2\n"
     ]
    }
   ],
   "source": [
    "ataques = {}\n",
    "\n",
    "# iterar sobre la columna de año\n",
    "for y in df['Year']:\n",
    "    # si el año no está en el diccionario, inicializarlo a 1\n",
    "    if y not in ataques:\n",
    "        ataques[y] = 1\n",
    "    # si el año ya está en el diccionario, incrementar el contador\n",
    "    else:\n",
    "        ataques[y] += 1\n",
    "\n",
    "# imprimir el resultado\n",
    "for y, contador in ataques.items():\n",
    "    print(f\"Año: {y} - Número de ataques: {contador}\")"
   ]
  },
  {
   "cell_type": "code",
   "execution_count": 46,
   "id": "c8f94394",
   "metadata": {},
   "outputs": [
    {
     "name": "stdout",
     "output_type": "stream",
     "text": [
      "En este registro podemos obtener la cantidad de: 1566 ataques 'Fatales'\n"
     ]
    }
   ],
   "source": [
    "fatalidades = df[df['Fatal (Y/N)'].str.contains('Y')]\n",
    "\n",
    "# contar el número de veces que aparece la palabra 'fatal' en la columna 'Fatal (Y/N)'\n",
    "contador = fatalidades['Fatal (Y/N)'].str.count('Y').sum()\n",
    "\n",
    "# imprimir el resultado\n",
    "print(f\"En este registro podemos obtener la cantidad de: {contador} ataques 'Fatales'\")"
   ]
  },
  {
   "cell_type": "code",
   "execution_count": null,
   "id": "bc3681ee",
   "metadata": {},
   "outputs": [],
   "source": []
  },
  {
   "cell_type": "code",
   "execution_count": null,
   "id": "5cf3f32b",
   "metadata": {},
   "outputs": [],
   "source": []
  },
  {
   "cell_type": "code",
   "execution_count": null,
   "id": "6f7c396b",
   "metadata": {},
   "outputs": [],
   "source": []
  }
 ],
 "metadata": {
  "kernelspec": {
   "display_name": "Python 3 (ipykernel)",
   "language": "python",
   "name": "python3"
  },
  "language_info": {
   "codemirror_mode": {
    "name": "ipython",
    "version": 3
   },
   "file_extension": ".py",
   "mimetype": "text/x-python",
   "name": "python",
   "nbconvert_exporter": "python",
   "pygments_lexer": "ipython3",
   "version": "3.9.13"
  }
 },
 "nbformat": 4,
 "nbformat_minor": 5
}
