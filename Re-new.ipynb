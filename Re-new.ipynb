{
 "cells": [
  {
   "cell_type": "code",
   "execution_count": null,
   "id": "7a1d0900",
   "metadata": {},
   "outputs": [],
   "source": [
    "import pandas as pd\n",
    "import numpy as np\n",
    "import matplotlib as mpl\n",
    "import warnings\n",
    "warnings.filterwarnings('ignore')\n",
    "pd.set_option('display.max_columns', None)  # me muestre todas las columnas\n",
    "import re"
   ]
  },
  {
   "cell_type": "code",
   "execution_count": null,
   "id": "f118dbb8",
   "metadata": {},
   "outputs": [],
   "source": [
    "# Descarga del DataFrame en archivo CSV. \n",
    "\n",
    "data_shark = pd.read_csv('/Users/JGR/IRON_HACK/Sharks/attacks.csv', encoding='UTF-8',encoding_errors='ignore')\n",
    "\n",
    "# Enseña la cabeza del DataFrame\n",
    "data_shark.head(2) "
   ]
  },
  {
   "cell_type": "code",
   "execution_count": null,
   "id": "12c73d56",
   "metadata": {},
   "outputs": [],
   "source": [
    "data_shark.info() # Vemos toda la informacion de la Data Frame"
   ]
  },
  {
   "cell_type": "code",
   "execution_count": null,
   "id": "eae2e091",
   "metadata": {},
   "outputs": [],
   "source": [
    "df = pd.DataFrame(data_shark)\n",
    "null_counts = df.isna().sum() \n",
    "null_counts[null_counts > 0]  "
   ]
  },
  {
   "cell_type": "code",
   "execution_count": null,
   "id": "118c1e60",
   "metadata": {},
   "outputs": [],
   "source": [
    "data_shark.shape, "
   ]
  },
  {
   "cell_type": "code",
   "execution_count": null,
   "id": "46b215f8",
   "metadata": {},
   "outputs": [],
   "source": [
    "df = data_shark.drop_duplicates() "
   ]
  },
  {
   "cell_type": "code",
   "execution_count": null,
   "id": "92d56fa9",
   "metadata": {},
   "outputs": [],
   "source": [
    "df.shape"
   ]
  },
  {
   "cell_type": "code",
   "execution_count": null,
   "id": "a2fe0581",
   "metadata": {},
   "outputs": [],
   "source": [
    "df = df.fillna('0') # Rellenamos todos los valores nulos a \"unknown\"\n",
    "df.tail(2)"
   ]
  },
  {
   "cell_type": "code",
   "execution_count": null,
   "id": "be35b1d7",
   "metadata": {},
   "outputs": [],
   "source": [
    "df.shape"
   ]
  },
  {
   "cell_type": "code",
   "execution_count": null,
   "id": "bb187b2c",
   "metadata": {},
   "outputs": [],
   "source": [
    "df.columns"
   ]
  },
  {
   "cell_type": "code",
   "execution_count": null,
   "id": "de9cfd76",
   "metadata": {},
   "outputs": [],
   "source": [
    "df = df.rename(columns={'Sex ': 'Sex'}) "
   ]
  },
  {
   "cell_type": "code",
   "execution_count": null,
   "id": "86b39250",
   "metadata": {},
   "outputs": [],
   "source": [
    "df = df.rename(columns={'Species ': 'Species'}) "
   ]
  },
  {
   "cell_type": "code",
   "execution_count": null,
   "id": "a2692f4d",
   "metadata": {},
   "outputs": [],
   "source": [
    "df.columns"
   ]
  },
  {
   "cell_type": "code",
   "execution_count": null,
   "id": "004b5811",
   "metadata": {},
   "outputs": [],
   "source": [
    "df['pdf'] = df['pdf'].str.replace('\\D', '') # Quitamos todo lo que no sea numerico de la lista\n",
    "df"
   ]
  },
  {
   "cell_type": "code",
   "execution_count": null,
   "id": "e54d5b59",
   "metadata": {},
   "outputs": [],
   "source": [
    "df.shape"
   ]
  },
  {
   "cell_type": "code",
   "execution_count": null,
   "id": "276da83a",
   "metadata": {},
   "outputs": [],
   "source": [
    "df = df.rename(columns={'Case Number.1': 'Attack Date'})"
   ]
  },
  {
   "cell_type": "code",
   "execution_count": null,
   "id": "d7aaa75a",
   "metadata": {},
   "outputs": [],
   "source": [
    "df['Case Number.2'] = 0 # Limpieza de datos que me son irrelevantes"
   ]
  },
  {
   "cell_type": "code",
   "execution_count": null,
   "id": "5b1f07e2",
   "metadata": {},
   "outputs": [],
   "source": [
    "df['original order'] = 0  # Limpieza de datos que me son irrelevantes"
   ]
  },
  {
   "cell_type": "code",
   "execution_count": null,
   "id": "388e9f7f",
   "metadata": {},
   "outputs": [],
   "source": [
    "df['href formula'] = 0  # Limpieza de datos que me son irrelevantes"
   ]
  },
  {
   "cell_type": "code",
   "execution_count": null,
   "id": "3d161578",
   "metadata": {},
   "outputs": [],
   "source": [
    "df['href'] = 0  # Limpieza de datos que me son irrelevantes"
   ]
  },
  {
   "cell_type": "code",
   "execution_count": null,
   "id": "ae772bf4",
   "metadata": {},
   "outputs": [],
   "source": [
    "df.head(3)"
   ]
  },
  {
   "cell_type": "code",
   "execution_count": null,
   "id": "8397cc93",
   "metadata": {},
   "outputs": [],
   "source": [
    "# Porcentaje por Pais\n",
    "Country_counts = df['Country'].value_counts()\n",
    "Country_percentages = Country_counts / len(df) * 100\n",
    "Country_percentages.head(8)"
   ]
  },
  {
   "cell_type": "code",
   "execution_count": null,
   "id": "18f36b91",
   "metadata": {},
   "outputs": [],
   "source": [
    "df.shape"
   ]
  },
  {
   "cell_type": "code",
   "execution_count": null,
   "id": "28f25a0e",
   "metadata": {},
   "outputs": [],
   "source": [
    "# Porcentaje por Sexo\n",
    "Sex_counts = df['Sex'].value_counts()\n",
    "Sex_percentages = Sex_counts / len(df) * 100\n",
    "Sex_percentages.head(2)"
   ]
  },
  {
   "cell_type": "code",
   "execution_count": null,
   "id": "9d0f577e",
   "metadata": {},
   "outputs": [],
   "source": [
    "# Porcentaje por Area\n",
    "Area_counts = df['Area'].value_counts()\n",
    "Area_percentages = Area_counts / len(df) * 100\n",
    "Area_percentages.head(5)"
   ]
  },
  {
   "cell_type": "code",
   "execution_count": null,
   "id": "45908cb9",
   "metadata": {},
   "outputs": [],
   "source": [
    "injuries = df['Injury'].value_counts()\n",
    "injuries.head(10)"
   ]
  },
  {
   "cell_type": "code",
   "execution_count": null,
   "id": "50d91375",
   "metadata": {},
   "outputs": [],
   "source": [
    "time = df['Time'].value_counts()\n",
    "time.head(10)"
   ]
  },
  {
   "cell_type": "code",
   "execution_count": null,
   "id": "6c856157",
   "metadata": {},
   "outputs": [],
   "source": [
    "df.shape"
   ]
  },
  {
   "cell_type": "code",
   "execution_count": null,
   "id": "b91e6bed",
   "metadata": {},
   "outputs": [],
   "source": [
    "sharks_species = df['Species'].value_counts()\n",
    "sharks_species.head(20)"
   ]
  },
  {
   "cell_type": "code",
   "execution_count": null,
   "id": "79dbcf0e",
   "metadata": {},
   "outputs": [],
   "source": [
    "df.head(3)"
   ]
  },
  {
   "cell_type": "code",
   "execution_count": null,
   "id": "f03ce267",
   "metadata": {},
   "outputs": [],
   "source": [
    "Dates = df['Attack Date'].value_counts()\n",
    "Dates.tail(100)"
   ]
  },
  {
   "cell_type": "code",
   "execution_count": null,
   "id": "d7d4be97",
   "metadata": {},
   "outputs": [],
   "source": []
  },
  {
   "cell_type": "code",
   "execution_count": null,
   "id": "9b2991ab",
   "metadata": {},
   "outputs": [],
   "source": []
  },
  {
   "cell_type": "code",
   "execution_count": null,
   "id": "62f65380",
   "metadata": {},
   "outputs": [],
   "source": []
  },
  {
   "cell_type": "code",
   "execution_count": null,
   "id": "19de2493",
   "metadata": {},
   "outputs": [],
   "source": [
    "ataques = {}\n",
    "\n",
    "# iterar sobre la columna de año\n",
    "for y in df['Attack Date']:\n",
    "    # si el año no está en el diccionario, inicializarlo a 1\n",
    "    if y not in ataques:\n",
    "        ataques[y] = 1\n",
    "    # si el año ya está en el diccionario, incrementar el contador\n",
    "    else:\n",
    "        ataques[y] += 1\n",
    "\n",
    "# imprimir el resultado\n",
    "for y, contador in ataques.items():\n",
    "    print(f\"Año: {y} - Número de ataques: {contador}\")"
   ]
  },
  {
   "cell_type": "code",
   "execution_count": null,
   "id": "0b2e2b3e",
   "metadata": {},
   "outputs": [],
   "source": [
    "fatalidades = df[df['Fatal (Y/N)'].str.contains('Y')]\n",
    "\n",
    "# contar el número de veces que aparece la palabra 'fatal' en la columna 'Fatal (Y/N)'\n",
    "contador = fatalidades['Fatal (Y/N)'].str.count('Y').sum()\n",
    "\n",
    "# imprimir el resultado\n",
    "print(f\"En este registro podemos obtener la cantidad de: {contador} ataques 'Fatales'\")"
   ]
  },
  {
   "cell_type": "code",
   "execution_count": null,
   "id": "65c08eb8",
   "metadata": {},
   "outputs": [],
   "source": []
  },
  {
   "cell_type": "code",
   "execution_count": null,
   "id": "7e807b4f",
   "metadata": {},
   "outputs": [],
   "source": []
  },
  {
   "cell_type": "code",
   "execution_count": null,
   "id": "efeea4d7",
   "metadata": {},
   "outputs": [],
   "source": []
  }
 ],
 "metadata": {
  "kernelspec": {
   "display_name": "Python 3 (ipykernel)",
   "language": "python",
   "name": "python3"
  },
  "language_info": {
   "codemirror_mode": {
    "name": "ipython",
    "version": 3
   },
   "file_extension": ".py",
   "mimetype": "text/x-python",
   "name": "python",
   "nbconvert_exporter": "python",
   "pygments_lexer": "ipython3",
   "version": "3.9.13"
  }
 },
 "nbformat": 4,
 "nbformat_minor": 5
}
